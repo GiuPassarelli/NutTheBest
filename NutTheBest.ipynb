{
 "cells": [
  {
   "cell_type": "markdown",
   "metadata": {},
   "source": [
    "# Projeto 2 - Classificador Automático de Sentimento\n",
    "\n",
    "Você foi contratado por uma empresa parar analisar como os clientes estão reagindo a um determinado produto no Twitter. A empresa deseja que você crie um programa que irá analisar as mensagens disponíveis e classificará como \"relevante\" ou \"irrelevante\". Com isso ela deseja que mensagens negativas, que denigrem o nome do produto, ou que mereçam destaque, disparem um foco de atenção da área de marketing.<br /><br />\n",
    "Como aluno de Ciência dos Dados, você lembrou do Teorema de Bayes, mais especificamente do Classificador Naive-Bayes, que é largamente utilizado em filtros anti-spam de e-mails. O classificador permite calcular qual a probabilidade de uma mensagem ser relevante dadas as palavras em seu conteúdo.<br /><br />\n",
    "Para realizar o MVP (*minimum viable product*) do projeto, você precisa implementar uma versão do classificador que \"aprende\" o que é relevante com uma base de treinamento e compara a performance dos resultados com uma base de testes.<br /><br />\n",
    "Após validado, o seu protótipo poderá também capturar e classificar automaticamente as mensagens da plataforma.\n",
    "\n",
    "## Informações do Projeto\n",
    "\n",
    "Prazo: 13/Set até às 23:59.<br />\n",
    "Grupo: 1 ou 2 pessoas.<br /><br />\n",
    "Entregáveis via GitHub: \n",
    "* Arquivo notebook com o código do classificador, seguindo as orientações abaixo.\n",
    "* Arquivo Excel com as bases de treinamento e teste totalmente classificado.\n",
    "\n",
    "**NÃO disponibilizar o arquivo com os *access keys/tokens* do Twitter.**\n",
    "\n",
    "\n",
    "### Check 3: \n",
    "\n",
    "Até o dia 06 de Setembro às 23:59, o notebook e o xlsx devem estar no Github com as seguintes evidências: \n",
    "    * Conta no twitter criada.\n",
    "    * Produto escolhido.\n",
    "    * Arquivo Excel contendo a base de treinamento e teste já classificado.\n",
    "\n",
    "Sugestão de leitura:<br />\n",
    "http://docs.tweepy.org/en/v3.5.0/index.html<br />\n",
    "https://monkeylearn.com/blog/practical-explanation-naive-bayes-classifier/"
   ]
  },
  {
   "cell_type": "markdown",
   "metadata": {},
   "source": [
    "___\n",
    "\n",
    "## Preparando o ambiente\n",
    "\n",
    "Instalando a biblioteca *tweepy* para realizar a conexão com o Twitter:"
   ]
  },
  {
   "cell_type": "code",
   "execution_count": 4,
   "metadata": {
    "collapsed": true
   },
   "outputs": [],
   "source": [
    "%%capture\n",
    "\n",
    "#Instalando o tweepy\n",
    "!pip install tweepy"
   ]
  },
  {
   "cell_type": "markdown",
   "metadata": {},
   "source": [
    "Importando as Bibliotecas que serão utilizadas. Esteja livre para adicionar outras."
   ]
  },
  {
   "cell_type": "code",
   "execution_count": 5,
   "metadata": {
    "collapsed": true
   },
   "outputs": [],
   "source": [
    "import tweepy\n",
    "import math\n",
    "import os.path\n",
    "import pandas as pd\n",
    "import json\n",
    "from random import shuffle"
   ]
  },
  {
   "cell_type": "markdown",
   "metadata": {},
   "source": [
    "___\n",
    "## Autenticando no  Twitter\n",
    "\n",
    "Para realizar a captura dos dados é necessário ter uma conta cadastrada no twitter:\n",
    "\n",
    "* Conta: *** @Rebecamoreno_***\n",
    "\n",
    "\n",
    "1. Caso ainda não tenha uma: https://twitter.com/signup\n",
    "1. Depois é necessário registrar um app para usar a biblioteca: https://apps.twitter.com/\n",
    "1. Dentro do registro do App, na aba Keys and Access Tokens, anotar os seguintes campos:\n",
    "    1. Consumer Key (API Key)\n",
    "    1. Consumer Secret (API Secret)\n",
    "1. Mais abaixo, gere um Token e anote também:\n",
    "    1. Access Token\n",
    "    1. Access Token Secret\n",
    "    \n",
    "1. Preencha os valores no arquivo \"auth.pass\"\n",
    "\n",
    "**ATENÇÃO**: Nunca divulgue os dados desse arquivo online (GitHub, etc). Ele contém as chaves necessárias para realizar as operações no twitter de forma automática e portanto é equivalente a ser \"hackeado\". De posse desses dados, pessoas mal intencionadas podem fazer todas as operações manuais (tweetar, seguir, bloquear/desbloquear, listar os seguidores, etc). Para efeito do projeto, esse arquivo não precisa ser entregue!!!"
   ]
  },
  {
   "cell_type": "code",
   "execution_count": 6,
   "metadata": {
    "collapsed": false
   },
   "outputs": [],
   "source": [
    "#Dados de autenticação do twitter:\n",
    "\n",
    "#Coloque aqui o identificador da conta no twitter: @fulano\n",
    "\n",
    "#leitura do arquivo no formato JSON\n",
    "with open('auth.pass') as fp:    \n",
    "    data = json.load(fp)\n",
    "\n",
    "#Configurando a biblioteca. Não modificar\n",
    "auth = tweepy.OAuthHandler(data['consumer_key'], data['consumer_secret'])\n",
    "auth.set_access_token(data['access_token'], data['access_token_secret'])"
   ]
  },
  {
   "cell_type": "markdown",
   "metadata": {},
   "source": [
    "___\n",
    "## Coletando Dados\n",
    "\n",
    "Agora vamos coletar os dados. Tenha em mente que dependendo do produto escolhido, não haverá uma quantidade significativa de mensagens, ou ainda poder haver muitos retweets.<br /><br /> \n",
    "Configurando:"
   ]
  },
  {
   "cell_type": "code",
   "execution_count": 7,
   "metadata": {
    "collapsed": true
   },
   "outputs": [],
   "source": [
    "#Produto escolhido:\n",
    "produto = 'Nutella'\n",
    "\n",
    "#Quantidade mínima de mensagens capturadas:\n",
    "n = 500\n",
    "#Quantidade mínima de mensagens para a base de treinamento:\n",
    "t = 300\n",
    "\n",
    "#Filtro de língua, escolha uma na tabela ISO 639-1.\n",
    "lang = 'pt'"
   ]
  },
  {
   "cell_type": "markdown",
   "metadata": {},
   "source": [
    "Capturando os dados do twitter:"
   ]
  },
  {
   "cell_type": "code",
   "execution_count": 8,
   "metadata": {
    "collapsed": true
   },
   "outputs": [],
   "source": [
    "#Cria um objeto para a captura\n",
    "api = tweepy.API(auth)\n",
    "\n",
    "#Inicia a captura, para mais detalhes: ver a documentação do tweepy\n",
    "i = 1\n",
    "msgs = []\n",
    "for msg in tweepy.Cursor(api.search, q=produto, lang=lang).items():    \n",
    "    msgs.append(msg.text.lower())\n",
    "    i += 1\n",
    "    if i > n:\n",
    "        break\n",
    "\n",
    "#Embaralhando as mensagens para reduzir um possível viés\n",
    "shuffle(msgs)"
   ]
  },
  {
   "cell_type": "markdown",
   "metadata": {},
   "source": [
    "Salvando os dados em uma planilha Excel:"
   ]
  },
  {
   "cell_type": "code",
   "execution_count": 9,
   "metadata": {
    "collapsed": true
   },
   "outputs": [],
   "source": [
    "#Verifica se o arquivo não existe para não substituir um conjunto pronto\n",
    "if not os.path.isfile('./{0}.xlsx'.format(produto)):\n",
    "    \n",
    "    #Abre o arquivo para escrita\n",
    "    writer = pd.ExcelWriter('{0}.xlsx'.format(produto))\n",
    "\n",
    "    #divide o conjunto de mensagens em duas planilhas\n",
    "    dft = pd.DataFrame({'Treinamento' : pd.Series(msgs[:t])})\n",
    "    dft.to_excel(excel_writer = writer, sheet_name = 'Treinamento', index = False)\n",
    "\n",
    "    dfc = pd.DataFrame({'Teste' : pd.Series(msgs[t:])})\n",
    "    dfc.to_excel(excel_writer = writer, sheet_name = 'Teste', index = False)\n",
    "\n",
    "    #fecha o arquivo\n",
    "    writer.save()"
   ]
  },
  {
   "cell_type": "markdown",
   "metadata": {},
   "source": [
    "___\n",
    "## Classificando as Mensagens\n",
    "\n",
    "Agora você deve abrir o arquivo Excel com as mensagens capturadas e classificar na Coluna B se a mensagem é relevante ou não.<br /> \n",
    "Não se esqueça de colocar um nome para a coluna na célula **B1**.<br /><br />\n",
    "Fazer o mesmo na planilha de Controle.\n",
    "\n",
    "___\n",
    "## Montando o Classificador Naive-Bayes\n",
    "\n",
    "Com a base de treinamento montada, comece a desenvolver o classificador. Escreva o seu código abaixo:\n",
    "\n",
    "Opcionalmente: \n",
    "* Limpar as mensagens removendo os caracteres: enter, :, \", ', (, ), etc. Não remover emojis.<br />\n",
    "* Corrigir separação de espaços entre palavras e/ou emojis.\n",
    "* Propor outras limpezas/transformações que não afetem a qualidade da informação.\n",
    "\n"
   ]
  },
  {
   "cell_type": "code",
   "execution_count": 18,
   "metadata": {
    "collapsed": false
   },
   "outputs": [],
   "source": [
    "dft = pd.read_excel('./{0}.xlsx'.format(produto),sheet='Treinamento')\n",
    "\n",
    "dftsim = dft[(dft.Relevante==\"Sim\")]\n",
    "dftnao = dft[(dft.Relevante==\"Não\")]"
   ]
  },
  {
   "cell_type": "code",
   "execution_count": 22,
   "metadata": {
    "collapsed": false
   },
   "outputs": [],
   "source": [
    "lendo = pd.ExcelFile('./{0}.xlsx'.format(produto))\n",
    "dfteste = lendo.parse(\"Teste\")"
   ]
  },
  {
   "cell_type": "code",
   "execution_count": 30,
   "metadata": {
    "collapsed": false
   },
   "outputs": [
    {
     "name": "stdout",
     "output_type": "stream",
     "text": [
      "Como curiosidade, a palavra que aparece com mais frequência em toda essa análise é a palavra \"nutella\", com uma frenquência de 219 vezes.\n",
      "\n",
      "Como curiosidade, a palavra que aparece com mais frequência entre todas as palavras de RELEVANTES é a palavra \"nutella\", com uma frenquência de 135 vezes.\n",
      "\n",
      "Como curiosidade, a palavra que aparece com mais frequência entre todas as palavras de NÃO RELEVANTES é a palavra \"nutella\", com uma frenquência de 84 vezes.\n",
      "\n",
      "A quantidade TOTAL de palavras no UNIVERSO é 3774.\n",
      "A quantidade TOTAL de palavras dentro de RELEVANTES é 1750.\n",
      "A quantidade TOTAL de palavras dentro de NÃO RELEVANTES é 2024.\n",
      "\n",
      "A quantidade de palavras DIFERENTES no UNIVERSO é 1370.\n",
      "A quantidade de palavras DIFERENTES dentro de RELEVANTES é 632.\n",
      "A quantidade de palavras DIFERENTES dentro de NÃO RELEVANTES é 911.\n"
     ]
    }
   ],
   "source": [
    "# A, S e N são dicionários com as frequências de cada uma das palavras separadas (splitadas).\n",
    "A = {}\n",
    "S = {}\n",
    "N = {}\n",
    "todas = 0\n",
    "c=0\n",
    "#para cada post (msg)\n",
    "for msg in dft[\"Treinamento\"]:\n",
    "    #para cada palavra dentro do post (i)\n",
    "    #msg = msg.split()\n",
    "    for i in msg.split():\n",
    "        #analisando cada palavra ja separada (for e if)\n",
    "        for caracter in range(0,len(i)):\n",
    "            i = i.strip(\",\").strip(\"'\").strip('\"').strip('#').strip(':').strip(';').strip('›').strip('!').strip('(').strip(')').strip('/').strip('\\n').strip('.').strip('\\\\').strip('-').strip('$').strip('%').strip('|').strip('=').strip('*').strip('ˆ').strip('&').strip('+').strip('?')\n",
    "        #contando sua frenquencia e adicionando em A\n",
    "        if not i in A:\n",
    "            A[i]=0\n",
    "        A[i]+=1\n",
    "        todas+=1\n",
    "        if A[i]>=c:\n",
    "            c=A[i]\n",
    "            string = i\n",
    "print('Como curiosidade, a palavra que aparece com mais frequência em toda essa análise é a palavra \"{0}\", com uma frenquência de {1} vezes.\\n'.format(string,c))\n",
    "todas_em_sim = 0\n",
    "p = 0\n",
    "#para cada post (msg)\n",
    "for msg in dftsim[\"Treinamento\"]:\n",
    "    #para cada palavra dentro do post (i)\n",
    "    #msg = msg.split()\n",
    "    for i in msg.split():\n",
    "        #analisando cada palavra ja separada (for e if)\n",
    "        for caracter in range(0,len(i)):\n",
    "            i = i.strip(\",\").strip(\"'\").strip('\"').strip('#').strip(':').strip(';').strip('!').strip('›').strip('(').strip(')').strip('/').strip('\\n').strip('.').strip('\\\\').strip('-').strip('$').strip('%').strip('|').strip('=').strip('*').strip('ˆ').strip('&').strip('+').strip('?').strip('k')\n",
    "        #contando sua frenquencia e adicionando em A\n",
    "        if not i in S:\n",
    "            S[i]=0\n",
    "        S[i]+=1\n",
    "        todas_em_sim+=1\n",
    "        if S[i]>=p:\n",
    "            p=S[i]\n",
    "            strings = i\n",
    "print('Como curiosidade, a palavra que aparece com mais frequência entre todas as palavras de RELEVANTES é a palavra \"{0}\", com uma frenquência de {1} vezes.\\n'.format(strings,p))\n",
    "todas_em_nao = 0\n",
    "f = 0\n",
    "#para cada post (msg)\n",
    "for msg in dftnao[\"Treinamento\"]:\n",
    "    #para cada palavra dentro do post (i)\n",
    "    #msg = msg.split()\n",
    "    for i in msg.split():\n",
    "        #analisando cada palavra ja separada (for e if)\n",
    "        for caracter in range(0,len(i)):\n",
    "            i = i.strip(\",\").strip(\"'\").strip('\"').strip('#').strip(':').strip(';').strip('!').strip('(').strip(')').strip('/').strip('\\n').strip('.').strip('\\\\').strip('-').strip('$').strip('%').strip('|').strip('=').strip('*').strip('ˆ').strip('&').strip('+').strip('?').strip(\"k\")\n",
    "        #contando sua frenquencia e adicionando em A\n",
    "        if not i in N:\n",
    "            N[i]=0\n",
    "        N[i]+=1\n",
    "        todas_em_nao+=1\n",
    "        if N[i]>=f:\n",
    "            f=N[i]\n",
    "            stringn = i\n",
    "            \n",
    "print('Como curiosidade, a palavra que aparece com mais frequência entre todas as palavras de NÃO RELEVANTES é a palavra \"{0}\", com uma frenquência de {1} vezes.\\n'.format(stringn,f))\n",
    "print('A quantidade TOTAL de palavras no UNIVERSO é {0}.'.format(todas))\n",
    "print('A quantidade TOTAL de palavras dentro de RELEVANTES é {0}.'.format(todas_em_sim))\n",
    "print('A quantidade TOTAL de palavras dentro de NÃO RELEVANTES é {0}.\\n'.format(todas_em_nao))\n",
    "print('A quantidade de palavras DIFERENTES no UNIVERSO é {0}.'.format(len(A)))\n",
    "print('A quantidade de palavras DIFERENTES dentro de RELEVANTES é {0}.'.format(len(S)))\n",
    "print('A quantidade de palavras DIFERENTES dentro de NÃO RELEVANTES é {0}.'.format(len(N)))"
   ]
  },
  {
   "cell_type": "code",
   "execution_count": 45,
   "metadata": {
    "collapsed": false
   },
   "outputs": [
    {
     "name": "stdout",
     "output_type": "stream",
     "text": [
      "Como curiosidade, a palavra que aparece com mais frequência em toda essa análise é a palavra \"nutella\", com uma frenquência de 141 vezes.\n",
      "\n",
      "A quantidade de palavras DIFERENTES no UNIVERSO é 1119.\n",
      "A quantidade de palavras DIFERENTES que existem tanto em Pt (planilha de Teste) quanto em A (planilha de Treinamento) é 467\n",
      "{'rt': 0.009544008483563097, '@br00talgirl': 0.0002651113467656416, 'espero': 0.0002651113467656416, 'um': 0.007423117709437964, 'dia': 0.0005302226935312832, 'ser': 0.0010604453870625664, 'feliz': 0.0005302226935312832, 'igual': 0.0005302226935312832, 'esse': 0.0015906680805938495, 'rato': 0.0002651113467656416, 'no': 0.004772004241781549, 'centro': 0.0002651113467656416, 'de': 0.023594909862142098, 'barueri': 0.0002651113467656416, 'https://t.co/rpuuf7moe9': 0.0002651113467656416, 'adicionei': 0.0002651113467656416, 'vídeo': 0.0002651113467656416, 'a': 0.0042417815482502655, 'uma': 0.004506892895015907, 'playlist': 0.0002651113467656416, '@youtube': 0.0002651113467656416, 'https://t.co/gkczigpl9e': 0.0002651113467656416, '1': 0.0002651113467656416, 'milhão': 0.0002651113467656416, '': 0.003181336161187699, 'bolo': 0.0015906680805938495, 'ninho': 0.008218451749734889, 'com': 0.014050901378579003, 'nutella': 0.036055143160127257, 'vulcão': 0.0002651113467656416, 'massa': 0.0002651113467656416, 'sabor': 0.0002651113467656416, '@pedronic_': 0.0002651113467656416, '@sleepool': 0.0002651113467656416, '@gabriel0h': 0.0002651113467656416, '@prdww': 0.0002651113467656416, 'lucas': 0.0002651113467656416, 'neto': 0.0002651113467656416, 'e': 0.012195121951219513, 'sua': 0.0002651113467656416, 'banheira': 0.0002651113467656416, 'preciso': 0.0002651113467656416, 'ir': 0.0002651113467656416, 'na': 0.0029162248144220574, 'casa': 0.001855779427359491, 'do': 0.0023860021208907743, 'gui': 0.0002651113467656416, 'pra': 0.002651113467656416, 'comer': 0.003711558854718982, 'kkj': 0.0002651113467656416, 'comecei': 0.0002651113467656416, 'fitness': 0.0002651113467656416, 'hj': 0.0007953340402969247, 'comendo': 0.001855779427359491, 'pote': 0.0029162248144220574, '❤😂': 0.0002651113467656416, 'logo': 0.0002651113467656416, 'manhã': 0.001325556733828208, '❤️': 0.0005302226935312832, 'passando': 0.0002651113467656416, 'banana': 0.0005302226935312832, 'sem': 0.0005302226935312832, 'duplo': 0.0002651113467656416, 'sentido': 0.0002651113467656416, 'tanto': 0.0005302226935312832, 'doce': 0.0007953340402969247, 'harmonizar': 0.0002651113467656416, 'vcs': 0.0005302226935312832, 'insistem': 0.0002651113467656416, 'nessa': 0.0002651113467656416, 'combinação': 0.0002651113467656416, 'leite': 0.009013785790031814, 'tão': 0.0007953340402969247, 'enjoativo': 0.0010604453870625664, '@ac_bulhoes': 0.0002651113467656416, 'essa': 0.0010604453870625664, 'pele': 0.0002651113467656416, 'preta': 0.0002651113467656416, 'pêlo': 0.0002651113467656416, 'pelo': 0.0005302226935312832, 'amor': 0.0005302226935312832, 'deus': 0.0005302226935312832, 'já': 0.001325556733828208, 'era': 0.0002651113467656416, 'queria': 0.0023860021208907743, 'outra': 0.0002651113467656416, '@matheussvini': 0.0002651113467656416, 'as': 0.001855779427359491, 'vezes': 0.0002651113467656416, 'o': 0.004506892895015907, 'humano': 0.0002651113467656416, 'so': 0.0005302226935312832, 'precisa': 0.0002651113467656416, 'fica': 0.0002651113467656416, 'quieto': 0.0002651113467656416, '@_falathay': 0.0002651113467656416, 'tô': 0.001325556733828208, 'bicho': 0.0005302226935312832, 'alguém': 0.0007953340402969247, 'só': 0.003711558854718982, 'saber': 0.0002651113467656416, 'quando': 0.0002651113467656416, 'tpm': 0.0002651113467656416, 'aparecer': 0.0002651113467656416, 'c': 0.001855779427359491, 'morango': 0.00503711558854719, 'p': 0.0015906680805938495, 'mim': 0.0015906680805938495, '@marketingcrf': 0.0002651113467656416, '2017': 0.0002651113467656416, 'cê': 0.0002651113467656416, 'acredita': 0.0002651113467656416, 'voz': 0.0002651113467656416, 'mongoloide': 0.0002651113467656416, 'mc': 0.0002651113467656416, 'kevinho': 0.0002651113467656416, 'eu': 0.006362672322375398, 'sou': 0.0007953340402969247, 'foca': 0.0002651113467656416, 'porra': 0.0002651113467656416, 'tá': 0.0010604453870625664, 'parabéns': 0.0005302226935312832, 'vc': 0.0010604453870625664, '@sigaarmandinho': 0.0002651113467656416, 'aceito': 0.0002651113467656416, 'lugar': 0.0002651113467656416, 'que': 0.009013785790031814, 'único': 0.0005302226935312832, 'barulho': 0.0002651113467656416, 'seja': 0.0002651113467656416, 'vento': 0.0002651113467656416, 'mar': 0.0002651113467656416, '@coemoren4': 0.0002651113467656416, 'ali': 0.0002651113467656416, 'em': 0.003711558854718982, 'botafogo': 0.0002651113467656416, 'menina': 0.0002651113467656416, 'foda': 0.0002651113467656416, 'ter': 0.001325556733828208, 'te': 0.0010604453870625664, 'ame': 0.0002651113467656416, 'vdd': 0.0002651113467656416, 'deve': 0.0002651113467656416, 'caralho': 0.0002651113467656416, 'mesmo': 0.001325556733828208, '@nutella_a_mais': 0.0002651113467656416, 'meu': 0.0023860021208907743, 'afilhado': 0.0002651113467656416, 'mais': 0.0007953340402969247, 'querido': 0.0002651113467656416, '❤️❤️❤️': 0.0005302226935312832, '@nxjvffc': 0.0002651113467656416, 'se': 0.0023860021208907743, 'voce': 0.0002651113467656416, 'gosta': 0.0005302226935312832, 'nao': 0.0007953340402969247, 'custa': 0.0002651113467656416, 'nada': 0.0005302226935312832, 'demonstrar': 0.0002651113467656416, '@crvgluuhf': 0.0002651113467656416, 'pessoa': 0.0005302226935312832, 'começa': 0.0002651113467656416, 'dar': 0.0007953340402969247, 'valor': 0.0002651113467656416, 'qnd': 0.0005302226935312832, 'escaralha': 0.0002651113467656416, 'toda': 0.0002651113467656416, '@_brunaa_silvaa_': 0.0002651113467656416, '@xxevinhaxx': 0.0002651113467656416, 'obrigada': 0.0002651113467656416, '❤️🔒': 0.0002651113467656416, '@luaracristal14': 0.0002651113467656416, 'tem': 0.003976670201484623, 'aqui': 0.001325556733828208, 'poucas': 0.0002651113467656416, 'coisas': 0.0005302226935312832, 'nesse': 0.0002651113467656416, 'mundo': 0.0010604453870625664, 'combinam': 0.0002651113467656416, 'bem': 0.0010604453870625664, 'quanto': 0.0002651113467656416, 'eh': 0.0007953340402969247, 'maissss': 0.0002651113467656416, 'torta': 0.0002651113467656416, '@danifields': 0.0002651113467656416, '@gabrielfuh_': 0.0002651113467656416, 'é': 0.008218451749734889, 'propaganda': 0.0002651113467656416, 'gigante': 0.0002651113467656416, 'da': 0.0021208907741251328, 'tava': 0.0007953340402969247, 'seu': 0.0002651113467656416, 'lado': 0.0005302226935312832, 'uns': 0.0002651113467656416, 'dois': 0.0002651113467656416, 'programas': 0.0002651113467656416, 'atrás?kkkk': 0.0002651113467656416, 'sonhei': 0.0002651113467656416, 'mh': 0.0002651113467656416, 'tinha': 0.0007953340402969247, 'feito': 0.0005302226935312832, 'mesa': 0.0002651113467656416, 'cheia': 0.0002651113467656416, 'crossaint': 0.0002651113467656416, 'docinhos': 0.0002651113467656416, 'nutella.....❤️❤️❤️❤️': 0.0002651113467656416, 'muito': 0.0005302226935312832, 'superestimadas': 0.0002651113467656416, 'vol1': 0.0002651113467656416, 'sexo': 0.0002651113467656416, 'anal': 0.0002651113467656416, '2': 0.0002651113467656416, '3': 0.0007953340402969247, 'coringa': 0.0002651113467656416, 'heath': 0.0002651113467656416, 'ledger': 0.0002651113467656416, '4': 0.0005302226935312832, 'rock': 0.0002651113467656416, '@breendinha_15': 0.0002651113467656416, '🙏🏼': 0.0002651113467656416, '@sportv': 0.0002651113467656416, 'geração': 0.0002651113467656416, '@intedioso': 0.0002651113467656416, 'corrida': 0.0002651113467656416, 'cavalos': 0.0002651113467656416, 'aposte': 0.0002651113467656416, '@ddncbr': 0.0002651113467656416, 'agora': 0.0021208907741251328, 'ea': 0.0005302226935312832, 'thayssa': 0.0005302226935312832, 'tamos': 0.0005302226935312832, 'nutella!😋😍👭': 0.0005302226935312832, 'fc': 0.0002651113467656416, 'pensando': 0.0005302226935312832, 'várias': 0.0002651113467656416, 'histórias': 0.0002651113467656416, 'tenho': 0.0007953340402969247, 'contar': 0.0002651113467656416, '@alinebelli_': 0.0005302226935312832, 'leva': 0.0005302226935312832, 'panqueca': 0.0005302226935312832, 'nois': 0.0005302226935312832, 'univali': 0.0005302226935312832, 'q': 0.003976670201484623, 'levo': 0.0010604453870625664, 'melhor': 0.001855779427359491, 'visita': 0.0002651113467656416, 'inesperada': 0.0002651113467656416, 'potão': 0.0002651113467656416, '@sucodearcoiris': 0.0002651113467656416, 'faria': 0.0002651113467656416, 'acordasse': 0.0002651113467656416, 'madrugada': 0.0002651113467656416, 'chucky': 0.0002651113467656416, 'es': 0.0002651113467656416, '—': 0.0002651113467656416, 'ia': 0.0002651113467656416, 'falar': 0.0005302226935312832, 'amo': 0.0007953340402969247, 'essas': 0.0002651113467656416, 'concerteza': 0.0002651113467656416, 'seri': 0.0002651113467656416, 'https://t.co/esqhbyohfm': 0.0002651113467656416, '@mrcioluiz91': 0.0002651113467656416, '@koeyhuri': 0.0002651113467656416, '@olavofrazao': 0.0002651113467656416, 'segunda': 0.0002651113467656416, 'quinta': 0.0002651113467656416, 'cara': 0.0005302226935312832, 'sexta': 0.0002651113467656416, 'domingo': 0.0005302226935312832, 'raiz': 0.0002651113467656416, 'dou': 0.0002651113467656416, 'até': 0.001325556733828208, 'tiro': 0.0002651113467656416, 'pro': 0.0005302226935312832, 'alto': 0.0002651113467656416, 'papo': 0.0002651113467656416, 'quebrar': 0.0002651113467656416, 'fuça': 0.0002651113467656416, 'esquiando': 0.0002651113467656416, 'feriado': 0.0002651113467656416, 'quero': 0.0015906680805938495, 'deveria': 0.0002651113467656416, 'oitava': 0.0002651113467656416, 'maravilha': 0.0002651113467656416, 'nossa': 0.0010604453870625664, 'incrível': 0.0007953340402969247, 'coisa': 0.0010604453870625664, 'claramente': 0.0007953340402969247, 'nunca': 0.001325556733828208, 'transou': 0.0007953340402969247, 'indivíduo': 0.0007953340402969247, 'minhas': 0.0002651113467656416, 'únicas': 0.0002651113467656416, 'amigas': 0.0002651113467656416, 'são': 0.0002651113467656416, 'maryna': 0.0002651113467656416, 'juliana': 0.0002651113467656416, 'resto': 0.0005302226935312832, 'for': 0.0002651113467656416, 'fazer': 0.001325556733828208, '🤗😂': 0.0002651113467656416, 'pudinzinho': 0.0002651113467656416, 'escorrendo': 0.0002651113467656416, 'todo': 0.0005302226935312832, '@larialbuq_': 0.0002651113467656416, 'mereço': 0.0005302226935312832, 'cair': 0.0002651113467656416, 'voltar': 0.0002651113467656416, 'acabar': 0.0005302226935312832, 'qual': 0.0002651113467656416, 'dificuldade': 0.0002651113467656416, 'dessa': 0.0002651113467656416, 'analfabeta': 0.0002651113467656416, 'colocar': 0.0002651113467656416, 'r': 0.0007953340402969247, 'nos': 0.0005302226935312832, 'verbos': 0.0002651113467656416, 'https://t.co/qyifnn0qkv': 0.0002651113467656416, 'tambem': 0.0002651113467656416, 'lauren': 0.0002651113467656416, 'fizemos': 0.0002651113467656416, 'docinho': 0.0007953340402969247, 'apesar': 0.0002651113467656416, 'eles': 0.0002651113467656416, 'terem': 0.0002651113467656416, 'ficado': 0.0002651113467656416, 'aparência': 0.0002651113467656416, 'bolinho': 0.0002651113467656416, 'batata': 0.0002651113467656416, 'ficou': 0.0002651113467656416, 'maravi': 0.0002651113467656416, '😋': 0.0005302226935312832, '@myhhaifisch': 0.0002651113467656416, 'gente': 0.0002651113467656416, 'bom': 0.0023860021208907743, 'mas': 0.0023860021208907743, 'vocês': 0.0002651113467656416, 'comeram': 0.0002651113467656416, 'ppk': 0.0002651113467656416, '@gloriadepressao': 0.0002651113467656416, 'floparam': 0.0002651113467656416, 'perdemos': 0.0002651113467656416, 'nosso': 0.0002651113467656416, 'tempo': 0.0002651113467656416, 'falando': 0.0002651113467656416, 'eram': 0.0002651113467656416, 'infantil': 0.0002651113467656416, 'quer': 0.0002651113467656416, 'me': 0.0029162248144220574, 'ver': 0.0002651113467656416, 'traga': 0.0002651113467656416, 'nutella,coxinha,enroladinho': 0.0002651113467656416, 'açaí': 0.0015906680805938495, 'sorvete': 0.0005302226935312832, '❤': 0.0015906680805938495, '@nutella_pipoca': 0.0002651113467656416, 'como': 0.0007953340402969247, 'assim': 0.0007953340402969247, 'escudo': 0.0002651113467656416, 'atletico': 0.0002651113467656416, 'madrid': 0.0002651113467656416, 'mto': 0.0007953340402969247, 'cansei': 0.0002651113467656416, 'desejar': 0.0002651113467656416, 'rodolfo': 0.0002651113467656416, '@cleytu': 0.0002651113467656416, 'morrer': 0.0002651113467656416, 'reencarnar': 0.0002651113467656416, 'filho': 0.0002651113467656416, 'príncipe': 0.0002651113467656416, 'william': 0.0002651113467656416, 'kate': 0.0002651113467656416, 'middleton': 0.0002651113467656416, 'pesquisar': 0.0002651113467656416, '@bibitatto': 0.0002651113467656416, 'isso': 0.001855779427359491, 'câmera': 0.0002651113467656416, 'topster': 0.0002651113467656416, '@nutella_datatto': 0.0002651113467656416, '@eeeitajeovana': 0.0002651113467656416, 'menstruação': 0.0005302226935312832, 'veio': 0.0002651113467656416, 'pr': 0.0002651113467656416, 'cmg': 0.0002651113467656416, '@calmathata': 0.0002651113467656416, 'fundo': 0.0002651113467656416, 'https://t.co/echw0mkj2k': 0.0002651113467656416, '@fuckmekarla96': 0.0002651113467656416, 'hahahaha': 0.0002651113467656416, 'menos': 0.0005302226935312832, 'armazéns': 0.0002651113467656416, 'daqui': 0.0002651113467656416, 'né': 0.0010604453870625664, 'licença': 0.0002651113467656416, '😎': 0.0002651113467656416, 'comprei': 0.0007953340402969247, 'damasco': 0.0002651113467656416, 'não': 0.006097560975609756, 'loka': 0.0002651113467656416, 'boca': 0.0005302226935312832, 'fazendo': 0.0007953340402969247, '😕': 0.0007953340402969247, 'yakisoba': 0.0002651113467656416, 'morando': 0.0002651113467656416, 'marcia': 0.0002651113467656416, '😍😍😍': 0.0002651113467656416, 'menta': 0.0002651113467656416, 'dms': 0.0002651113467656416, 'podia': 0.0002651113467656416, 'achar': 0.0002651113467656416, 'dinheiro': 0.0005302226935312832, 'amanhã': 0.001325556733828208, 'dono': 0.0002651113467656416, '500': 0.0002651113467656416, 'reais': 0.0005302226935312832, 'dava': 0.0002651113467656416, 'rsrs': 0.0002651113467656416, 'compraria': 0.0002651113467656416, 'começar': 0.0010604453870625664, '👌💕💕': 0.0002651113467656416, 'devolve': 0.0002651113467656416, 'rangel': 0.0002651113467656416, 'raíz': 0.0002651113467656416, 'ta': 0.0005302226935312832, 'chato': 0.0002651113467656416, 'sobrou': 0.0002651113467656416, 'metade': 0.0002651113467656416, 'pastel': 0.001325556733828208, '@signodabad': 0.0002651113467656416, 'apaixona': 0.0002651113467656416, 'jeitinho': 0.0002651113467656416, 'deles': 0.0002651113467656416, 'aquário': 0.0002651113467656416, 'peixes': 0.0002651113467656416, 'capricórnio': 0.0002651113467656416, 'áries': 0.0002651113467656416, 'leão': 0.0002651113467656416, 'touro': 0.0002651113467656416, 'virgem': 0.0002651113467656416, 'escorpião': 0.0002651113467656416, 'libra': 0.0002651113467656416, 'sa…': 0.0002651113467656416, 'may': 0.0002651113467656416, 'sté': 0.0002651113467656416, 'caique': 0.0002651113467656416, 'tentando': 0.0002651113467656416, 'zerar': 0.0002651113467656416, '20': 0.0002651113467656416, 'minutos': 0.0002651113467656416, 'foi': 0.0005302226935312832, 'engraçado': 0.0002651113467656416, 'kkkkkkkk': 0.0002651113467656416, 'ontem': 0.0002651113467656416, 'fui': 0.0005302226935312832, 'pegou': 0.0002651113467656416, 'v.a': 0.0002651113467656416, 'comprar': 0.0007953340402969247, 'comemos': 0.0002651113467656416, 'lembrar': 0.0002651113467656416, 'aaiii': 0.0002651113467656416, 'rogéria': 0.0002651113467656416, 'bicha': 0.0002651113467656416, 'geral': 0.0002651113467656416, 'respeitava': 0.0002651113467656416, 'nem': 0.0010604453870625664, 'viadinhos': 0.0002651113467656416, 'taquara': 0.0002651113467656416, 'rachada': 0.0002651113467656416, 'aí': 0.0010604453870625664, 'rip': 0.0002651113467656416, '@bangtanafonso': 0.0005302226935312832, 'anjo': 0.0005302226935312832, '💜': 0.0005302226935312832, 'muitas': 0.0005302226935312832, 'felicidades': 0.0005302226935312832, 'paz': 0.0005302226935312832, 'money': 0.0005302226935312832, 'comida': 0.0005302226935312832, 'toddynho': 0.0005302226935312832, 'coreanos': 0.0005302226935312832, '😂': 0.0005302226935312832, 'mt': 0.001855779427359491, '@milgraufutebol': 0.0002651113467656416, 'passou': 0.0002651113467656416, 'hora': 0.0005302226935312832, 'militarizar': 0.0002651113467656416, 'todas': 0.0002651113467656416, 'escolas': 0.0002651113467656416, 'públicas': 0.0002651113467656416, 'retardados': 0.0002651113467656416, 'precisam': 0.0002651113467656416, 'aprender': 0.0002651113467656416, 'entrar…': 0.0002651113467656416, 'mãe': 0.0005302226935312832, 'comprou': 0.0007953340402969247, 'cópia': 0.0002651113467656416, 'kkkk': 0.0002651113467656416, 'creme': 0.0002651113467656416, 'avelã': 0.0002651113467656416, 'aqi': 0.0002651113467656416, 'marca': 0.0002651113467656416, 'vi': 0.0002651113467656416, 'kkk': 0.0002651113467656416, 'mó': 0.0002651113467656416, '@renatotaioba': 0.0005302226935312832, 'assistindo': 0.0005302226935312832, 'vídeos': 0.0005302226935312832, 'receita': 0.001855779427359491, 'facebook': 0.0002651113467656416, 'cream': 0.0005302226935312832, 'cheese': 0.0005302226935312832, 'blueberry': 0.0005302226935312832, 'baunilha': 0.0005302226935312832, 'oreo': 0.0010604453870625664, 'https://t.co/qokzbkh…': 0.0005302226935312832, 'momento': 0.0007953340402969247, 'churros': 0.0015906680805938495, 'saquarema': 0.0002651113467656416, 'https://t.co/g8g8dbo2bg': 0.0002651113467656416, '@_sraobrien_': 0.0002651113467656416, 'kkkkkkkkkkk': 0.0002651113467656416, 'sim': 0.0002651113467656416, 'vamo': 0.0002651113467656416, 'estudar': 0.0002651113467656416, 'chegar': 0.0002651113467656416, 'entrar': 0.0002651113467656416, 'numa': 0.0002651113467656416, 'branquinho': 0.0002651113467656416, '😍': 0.0005302226935312832, '@portalechociay': 0.0002651113467656416, 'pouco': 0.0002651113467656416, 'há': 0.0002651113467656416, 'evento': 0.0002651113467656416, 'beneficente': 0.0002651113467656416, 'paróquia': 0.0002651113467656416, 'senhora': 0.0002651113467656416, 'assunção': 0.0002651113467656416, 'goiânia/go.…': 0.0002651113467656416, 'podem': 0.0002651113467656416, 'n': 0.0010604453870625664, 'gostar': 0.0007953340402969247, 'açai': 0.0002651113467656416, 'goiânia/…': 0.0002651113467656416, 'https://t.co/westjwsxjg': 0.0002651113467656416, '@eusemprebad': 0.0002651113467656416, 'projeto': 0.0002651113467656416, 'mozão': 0.0002651113467656416, 'vai': 0.0021208907741251328, 'ficar': 0.0015906680805938495, '2018': 0.0002651113467656416, 'passa': 0.0002651113467656416, '@jeffs_araujo35': 0.0002651113467656416, 'lava': 0.0002651113467656416, 'jato': 0.0002651113467656416, 'curitiba': 0.0002651113467656416, 'brasilia': 0.0002651113467656416, 'vamos': 0.0005302226935312832, 'ouvir': 0.0005302226935312832, 'música': 0.0002651113467656416, 'saliência': 0.0002651113467656416, 'minha': 0.002651113467656416, 'mae': 0.0002651113467656416, '@lolic25': 0.0002651113467656416, 'acha': 0.0005302226935312832, 'intimidade': 0.0002651113467656416, 'comigo': 0.0002651113467656416, 'conhece': 0.0002651113467656416, 'direito': 0.0005302226935312832, 'kkkkkkkkkkkk': 0.0002651113467656416, 'tercadetremurasdv': 0.0002651113467656416, 'https://t.co/jiotqlv…': 0.0002651113467656416, 'club': 0.0002651113467656416, 'social': 0.0002651113467656416, 'gosto': 0.0007953340402969247, 'requeijão': 0.0002651113467656416, 'presunto': 0.0002651113467656416, 'então': 0.0002651113467656416, 'ou': 0.0015906680805938495, 'https://t.co/itprjxcjww': 0.0002651113467656416, '@jackcanalha': 0.0007953340402969247, '@uepatrick': 0.0002651113467656416, 'vo': 0.0002651113467656416, 'baile': 0.0002651113467656416, 'procurar': 0.0002651113467656416, 'negão': 0.0002651113467656416, 'ja': 0.0007953340402969247, 'perceberam': 0.0002651113467656416, 'hater': 0.0002651113467656416, 'ninho+nutella': 0.0005302226935312832, 'os': 0.0002651113467656416, '@garnaci': 0.0005302226935312832, '@frasesdebebadas': 0.0005302226935312832, 'brigadeiro': 0.001325556733828208, 'amorrrrrrr': 0.0005302226935312832, 'ava': 0.0002651113467656416, 'podre😂❤️💦': 0.0002651113467656416, 'https://t.co/yv6kyzflia': 0.0002651113467656416, '@saarahsaad': 0.0002651113467656416, 'odiar': 0.0002651113467656416, 'ex': 0.0002651113467656416, 'quem': 0.0002651113467656416, 'pega': 0.0002651113467656416, 'dnv': 0.0002651113467656416, 'umas': 0.0002651113467656416, 'cem': 0.0002651113467656416, 'vzs': 0.0002651113467656416, 'para': 0.0010604453870625664, '@kaueasmarques': 0.0002651113467656416, 'cada': 0.0002651113467656416, 'chocolate': 0.0007953340402969247, 'barato': 0.0002651113467656416, 'hahahha': 0.0002651113467656416, 'muuuito': 0.0002651113467656416, 'barata': 0.0002651113467656416, 'imitações…': 0.0002651113467656416, 'https://t.co/rtt8flvmjq': 0.0002651113467656416, '@mariapereiraa23': 0.0002651113467656416, 'afinal': 0.0002651113467656416, 'acontece': 0.0002651113467656416, 'aos': 0.0002651113467656416, 'outros': 0.0002651113467656416, '🤗💕': 0.0002651113467656416, 'https://t.co/91tdbxdep0': 0.0002651113467656416, 'medo': 0.0002651113467656416, 'magoes...😓': 0.0002651113467656416, '@o_colecionador': 0.0002651113467656416, 'quiz': 0.0002651113467656416, 'dizer': 0.0002651113467656416, 'bichas': 0.0002651113467656416, 'acabaram': 0.0002651113467656416, 'diria': 0.0002651113467656416, 'pão': 0.001855779427359491, 'ovo': 0.0002651113467656416, '@r10_bottega': 0.0002651113467656416, 'jogador': 0.0002651113467656416, '@nutella_silva': 0.0002651113467656416, 'arrocha': 0.0002651113467656416, 'aaaiii': 0.0002651113467656416, '@welington_wc': 0.0002651113467656416, 'velho': 0.0002651113467656416, 'usam': 0.0002651113467656416, 'luzinha': 0.0002651113467656416, 'perfil': 0.0002651113467656416, 'visualizado': 0.0002651113467656416, 'por': 0.0023860021208907743, '8': 0.0002651113467656416, 'pessoas': 0.0007953340402969247, 'https://t.co/myz0u6bo7s': 0.0002651113467656416, '@joaqulnvoltou': 0.0002651113467656416, 'cblol': 0.0002651113467656416, 'grita': 0.0002651113467656416, 'vagina': 0.0002651113467656416, 'chorar': 0.0002651113467656416, 'sabe': 0.0002651113467656416, 'trata': 0.0002651113467656416, 'esporte': 0.0002651113467656416, 'ge…': 0.0002651113467656416, '@camilat18842096': 0.0002651113467656416, 'indo': 0.0005302226935312832, 'dormir': 0.0002651113467656416, 'deixando': 0.0002651113467656416, 'rodando': 0.0002651113467656416, 'ajudar': 0.0002651113467656416, 'mochi': 0.0002651113467656416, 'fighting': 0.0002651113467656416, 'amys': 0.0002651113467656416, 'serendipity': 0.0002651113467656416, 'love_yourself_承_h…': 0.0002651113467656416, 'socorrooooooo': 0.0005302226935312832, 'estou': 0.001325556733828208, 'muita': 0.0005302226935312832, 'vontade': 0.0015906680805938495, 'nutella😑😑': 0.0005302226935312832, '@papoveridico021': 0.0002651113467656416, 'trânquilo': 0.0002651113467656416, 'festinha': 0.0002651113467656416, 'começou': 0.0005302226935312832, 'tocar': 0.0002651113467656416, 'ferrugem': 0.0002651113467656416, 'https://t.co/cifot1ss5f': 0.0002651113467656416, '@henriquee123l': 0.0002651113467656416, 'tamo': 0.0002651113467656416, 'setembro': 0.0002651113467656416, 'sei': 0.001325556733828208, 'aguento': 0.0002651113467656416, 'dezembro': 0.0002651113467656416, '@_nathaliapontes': 0.0002651113467656416, '@negosunga12': 0.0002651113467656416, 'boleiro': 0.0002651113467656416, 'tbm': 0.0005302226935312832, 'jogar': 0.0005302226935312832, 'kkkkkkkkk': 0.0002651113467656416, 'elenco': 0.0002651113467656416, 'terça': 0.0002651113467656416, 'bahia': 0.0002651113467656416, 'spa': 0.0002651113467656416, 'vam…': 0.0002651113467656416, 'https://t.co/bbywhcgtb3': 0.0002651113467656416, '5': 0.0002651113467656416, 'novos': 0.0002651113467656416, 'seguidores,0': 0.0002651113467656416, 'enviadas,1': 0.0002651113467656416, 'pararam': 0.0002651113467656416, 'seguir': 0.0002651113467656416, 'https://t.co/psluamtywx': 0.0002651113467656416, '@segvolta': 0.0002651113467656416, 'tomar': 0.0002651113467656416, 'meio': 0.0002651113467656416, 'olho': 0.0002651113467656416, 'cu': 0.0002651113467656416, 'ridiculariza': 0.0002651113467656416, 'rogeria': 0.0002651113467656416, 'vem': 0.0002651113467656416, '“raiz': 0.0002651113467656416, 'x': 0.0002651113467656416, 'nutella”': 0.0002651113467656416, '@humretardado': 0.0002651113467656416, 'segue': 0.0002651113467656416, 'sigo': 0.0002651113467656416, 'volta': 0.0002651113467656416, '@naosalvo': 0.0002651113467656416, 'internet': 0.0002651113467656416, 'fede': 0.0002651113467656416, 'catuaba': 0.0002651113467656416, 'imagina': 0.0005302226935312832, '@_pgpontes': 0.0002651113467656416, 'paga': 0.0002651113467656416, 'doida': 0.0002651113467656416, 'ela': 0.0002651113467656416, 'sonho': 0.0005302226935312832, 'dela': 0.0005302226935312832, '🎶': 0.0002651113467656416, 'juro': 0.0005302226935312832, 'bue': 0.0002651113467656416, 'fofas❤️🔐⚡️': 0.0002651113467656416, '@dmsstrong': 0.0002651113467656416, '💕game': 0.0005302226935312832, 'google💕': 0.0005302226935312832, 'valendo': 0.0005302226935312832, 'dm': 0.0005302226935312832, '@froynextdoor': 0.0005302226935312832, '•rt': 0.0005302226935312832, 'valer': 0.0005302226935312832, 'foto': 0.0005302226935312832, 'capuccino': 0.0005302226935312832, 'amy': 0.0005302226935312832, 'sarah': 0.0002651113467656416, 'falou': 0.0002651113467656416, 'compra': 0.0005302226935312832, 'duas': 0.0002651113467656416, 'awn': 0.0002651113467656416, '6': 0.0005302226935312832, 'cm': 0.0007953340402969247, 'oque': 0.0002651113467656416, 'temos': 0.0002651113467656416, 'kskksek': 0.0002651113467656416, '@dhejeison': 0.0002651113467656416, 't': 0.0002651113467656416, 's': 0.0002651113467656416, 'd': 0.0005302226935312832, 'm': 0.0002651113467656416, 'v': 0.0002651113467656416, 'ê': 0.0002651113467656416, 'l': 0.0002651113467656416, 'gostoso': 0.0007953340402969247, 'demais': 0.0007953340402969247, 'doido': 0.0005302226935312832, '@caracolraivoso': 0.0002651113467656416, 'mergulha': 0.0002651113467656416, 'kkkkk': 0.0002651113467656416, 'semana': 0.0002651113467656416, 'molho': 0.0002651113467656416, 'dormindo': 0.0002651113467656416, 'transando': 0.0002651113467656416, 'torrada': 0.0002651113467656416, '@smoraes_s': 0.0005302226935312832, 'mtt': 0.0005302226935312832, 'joga': 0.0002651113467656416, 'https://t.co/xfxgyucala': 0.0002651113467656416, '@xuliagrcia': 0.0002651113467656416, 'faço': 0.0002651113467656416, 'maozinha': 0.0002651113467656416, 'dirigindo': 0.0002651113467656416, 'ahshahaha': 0.0002651113467656416, '@agenteplayer1': 0.0010604453870625664, 'agente': 0.0002651113467656416, 'deu': 0.0005302226935312832, 'coração': 0.0002651113467656416, 'twett': 0.0002651113467656416, 'faz': 0.0005302226935312832, 'milagres': 0.0002651113467656416, 'diz': 0.0002651113467656416, 'espinha': 0.0002651113467656416, '😂🤔😫🌈': 0.0002651113467656416, 'duras': 0.0002651113467656416, 'verdades': 0.0002651113467656416, 'superestimada': 0.0002651113467656416, '@aguslinawiak': 0.0002651113467656416, '137': 0.0005302226935312832, 'carolinakopelioff': 0.0005302226935312832, 'valentinazenere': 0.0005302226935312832, 'michaelronda': 0.0005302226935312832, 'soyluna': 0.0005302226935312832, 'agustinbernasconitrendy': 0.0005302226935312832, 'kcaargent…': 0.0002651113467656416, 'twitter': 0.0002651113467656416, 'aba': 0.0002651113467656416, 'eventos': 0.0002651113467656416, 'parem': 0.0002651113467656416, 'escrotizar': 0.0002651113467656416, 'site': 0.0002651113467656416, 'cambada': 0.0002651113467656416, '@jumaffei': 0.0002651113467656416, 'machista': 0.0002651113467656416, 'morria': 0.0002651113467656416, 'guerra': 0.0002651113467656416, 'finge': 0.0002651113467656416, 'miopia': 0.0002651113467656416, 'escapar': 0.0002651113467656416, 'exército': 0.0002651113467656416, 'fala': 0.0005302226935312832, 'daquele': 0.0002651113467656416, 'inferno': 0.0002651113467656416, 'acreditava': 0.0002651113467656416, '@kelvinliima': 0.0002651113467656416, 'sdds': 0.0005302226935312832, 'daquela': 0.0002651113467656416, '@dougraz': 0.0002651113467656416, 'fé': 0.0002651113467656416, 'pai': 0.0005302226935312832, 'role': 0.0002651113467656416, 'sai': 0.0002651113467656416, '@rrosbacrvg': 0.0002651113467656416, 'fumo': 0.0002651113467656416, 'trago': 0.0002651113467656416, 'peito': 0.0002651113467656416, '@umvlngador': 0.0002651113467656416, 'acreditar': 0.0002651113467656416, 'adulto': 0.0002651113467656416, '@kathlynminegirl': 0.0002651113467656416, '♥': 0.0002651113467656416, 'extrude/render♥': 0.0002651113467656416, 'by:euh': 0.0002651113467656416, 'uniih': 0.0002651113467656416, '@jogadorakawaii': 0.0002651113467656416, 'fofisss': 0.0002651113467656416, '🔃+❤️=uma': 0.0002651113467656416, 'felixx': 0.0002651113467656416, 'https://t.co/atorej…': 0.0002651113467656416, '@textoscrueis': 0.0002651113467656416, 'esquecer': 0.0002651113467656416, 'inteira': 0.0002651113467656416, 'urgência': 0.0002651113467656416, 'tornar-me': 0.0002651113467656416, 'calmaria': 0.0002651113467656416, '@haikaissletras': 0.0002651113467656416, 'graça': 0.0002651113467656416, 'vejo': 0.0002651113467656416, 'pela': 0.0002651113467656416, 'janela': 0.0002651113467656416, 'você': 0.001325556733828208, 'partir': 0.0007953340402969247, '@giugouveia': 0.0002651113467656416, 'paçoca': 0.0002651113467656416, '👏🏽': 0.0002651113467656416, 'curtia': 0.0002651113467656416, 'revista': 0.0002651113467656416, 'novela': 0.0002651113467656416, 'sambista': 0.0002651113467656416, 'portela': 0.0002651113467656416, 'pista': 0.0002651113467656416, 'favela': 0.0002651113467656416, 'sinistra': 0.0002651113467656416, 'frasista': 0.0002651113467656416, 'bela': 0.0002651113467656416, 'lia': 0.0002651113467656416, 'sergio': 0.0002651113467656416, 'vaz': 0.0002651113467656416, 'fã': 0.0002651113467656416, 'mandela': 0.0002651113467656416, 'moral': 0.0002651113467656416, 'feia': 0.0002651113467656416, 'desde': 0.0002651113467656416, 'sempre': 0.0002651113467656416, 'ainda': 0.0007953340402969247, 'completar': 0.0002651113467656416, 'smp': 0.0002651113467656416, 'fazia': 0.0002651113467656416, 'larissa': 0.0002651113467656416, 'prender': 0.0002651113467656416, '@tutsluann_': 0.0002651113467656416, 'fale': 0.0002651113467656416, 'mal': 0.0002651113467656416, 'presidente': 0.0002651113467656416, 'eurico': 0.0002651113467656416, 'está': 0.0002651113467656416, 'reconstruindo': 0.0002651113467656416, 'vasco': 0.0002651113467656416, 'mimimi': 0.0002651113467656416, 'criado': 0.0002651113467656416, 'combinações': 0.0002651113467656416, 'bia': 0.0002651113467656416, 'miojo': 0.0002651113467656416, 'biscoito': 0.0005302226935312832, 'pao': 0.0002651113467656416, 'queijo': 0.0002651113467656416, 'bolacha': 0.0005302226935312832, 'maizena': 0.0002651113467656416, 'goiabada': 0.0005302226935312832, 'fico': 0.0002651113467656416, 'triste': 0.0005302226935312832, '@pickydemasiado': 0.0002651113467656416, 'odio': 0.0002651113467656416, 'abro': 0.0002651113467656416, 'fic': 0.0002651113467656416, 'crente': 0.0002651113467656416, 'farosella': 0.0002651113467656416, 'pana': 0.0002651113467656416, 'mano': 0.0002651113467656416, 'familia': 0.0002651113467656416, 'irrita': 0.0002651113467656416, 'macarronada': 0.0002651113467656416, 'sardinha': 0.0002651113467656416, 'aparece': 0.0002651113467656416, '@ddsluciano': 0.0002651113467656416, '@tupiraoni': 0.0002651113467656416, '@guganoblat': 0.0002651113467656416, 'época': 0.0002651113467656416, 'existia': 0.0002651113467656416, 'tudo': 0.0021208907741251328, 'bons': 0.0002651113467656416, 'tempos': 0.0002651113467656416, 'vivia': 0.0002651113467656416, 'boa': 0.0002651113467656416, 'acabei': 0.0002651113467656416, 'dias': 0.0002651113467656416, 'onde': 0.0002651113467656416, 'vou': 0.001855779427359491, 'parar': 0.0002651113467656416, 'ngm': 0.0002651113467656416, 'chama': 0.0002651113467656416, 'beber': 0.0002651113467656416, '@brbarabrenda2': 0.0010604453870625664, '@larisbrandaoo': 0.0007953340402969247, '@maisumdopedro': 0.0010604453870625664, 'bora': 0.0007953340402969247, 'kk': 0.0002651113467656416, 'pedro': 0.0007953340402969247, 'ficamos': 0.0007953340402969247, 'felizes': 0.0007953340402969247, 'vinicius': 0.0002651113467656416, 'disse': 0.0002651113467656416, 'ele': 0.0002651113467656416, 'fechada': 0.0002651113467656416, 'estressar': 0.0002651113467656416, 'num': 0.0002651113467656416, 'é😒': 0.0002651113467656416, 'tia': 0.0002651113467656416, 'fez': 0.0007953340402969247, 'tapioca': 0.001325556733828208, 'comi': 0.0007953340402969247, 'xe': 0.0002651113467656416, 'pt': 0.0005302226935312832, 'deu-me': 0.0002651113467656416, 'fome': 0.0007953340402969247, 'crl': 0.0002651113467656416, 'taças': 0.0002651113467656416, 'cereais': 0.0002651113467656416, 'pães': 0.0005302226935312832, 'buraco': 0.0002651113467656416, 'estômago': 0.0002651113467656416, 'dred': 0.0002651113467656416, 'tive': 0.0002651113467656416, 'kajskskkkk': 0.0002651113467656416, 'kkkkkkk': 0.0002651113467656416, 'estudei': 0.0002651113467656416, 'colégio': 0.0007953340402969247, 'nego': 0.0002651113467656416, 'roubava': 0.0002651113467656416, 'alma': 0.0002651113467656416, 'https://t.co/lvrsx7cgwn': 0.0002651113467656416, 'aposto': 0.0002651113467656416, 'esta': 0.0002651113467656416, 'também': 0.0002651113467656416, 'come': 0.0005302226935312832, 'engorda': 0.0002651113467656416, 'azar': 0.0002651113467656416, 'á': 0.0002651113467656416, 'vida': 0.001325556733828208, 'xd': 0.0002651113467656416, 'https://t.co/ss5mva8grd': 0.0002651113467656416, '@_thalves': 0.0002651113467656416, 'gostei': 0.0002651113467656416, 'https://t.co/p3u8w701jh': 0.0002651113467656416, 'shake': 0.0005302226935312832, 'nutella‹': 0.0002651113467656416, 'portuga': 0.0002651113467656416, '›': 0.0002651113467656416, '@garotoexausto': 0.0002651113467656416, '@sehunsopinhabr': 0.0002651113467656416, '@isantosb_': 0.0002651113467656416, '@biavieirad_': 0.0002651113467656416, '@giih_nutella_': 0.0002651113467656416, 'krl': 0.0002651113467656416, 'namoral': 0.0002651113467656416, 'resolver': 0.0002651113467656416, 'tu': 0.0002651113467656416, 'teu': 0.0002651113467656416, 'proceder': 0.0002651113467656416, 'teus': 0.0002651113467656416, 'amiguinho': 0.0002651113467656416, 'tua': 0.0005302226935312832, 'atitude': 0.0002651113467656416, 'mana': 0.0002651113467656416, 'ganhou': 0.0002651113467656416, 'imenso': 0.0002651113467656416, 'avô': 0.0002651113467656416, 'quantos': 0.0002651113467656416, 'durar': 0.0002651113467656416, '👀': 0.0002651113467656416, 'tmj': 0.0002651113467656416, 'irmão': 0.0002651113467656416, 'https://t.co/he2sabo8w8': 0.0002651113467656416, 'gatinho': 0.0002651113467656416, 'cachorrinho': 0.0002651113467656416, 'sucesso': 0.0002651113467656416, 'retardado': 0.0002651113467656416, 'noção': 0.0002651113467656416, 'discussão': 0.0002651113467656416, 'áudio': 0.0002651113467656416, 'matheus': 0.0002651113467656416, 'descrevendo': 0.0002651113467656416, '@brenolemes2016': 0.0002651113467656416, 'mina': 0.0002651113467656416, 'existe': 0.0002651113467656416, 'gostom': 0.0002651113467656416, 'arthur': 0.0002651113467656416, 'levou': 0.0002651113467656416, 'hoje': 0.0007953340402969247, 'trabalho': 0.0002651113467656416, 'recheio': 0.0002651113467656416, 'tirou': 0.0002651113467656416, 'ondaa': 0.0002651113467656416, '@isasantana2403': 0.0002651113467656416, 'https://t.co/56amzinurr': 0.0002651113467656416, '@alexmapelli0': 0.0002651113467656416, '10/10': 0.0002651113467656416, 'merecia': 0.0002651113467656416, '11': 0.0002651113467656416, 'dessas': 0.0002651113467656416, 'indecisa': 0.0002651113467656416, 'pipoca': 0.0002651113467656416, 'amanteigada': 0.0002651113467656416, '@umvicente': 0.0002651113467656416, 'iago': 0.0002651113467656416, 'sousa': 0.0002651113467656416, 'entre': 0.0002651113467656416, 'nós': 0.0002651113467656416, 'depois': 0.0002651113467656416, 'disso': 0.0002651113467656416, 'https://t.co/cq51urapab': 0.0002651113467656416, 'https://t.co/mzaqioijiq': 0.0002651113467656416, 'note': 0.0002651113467656416, 'light': 0.0002651113467656416, 'vs': 0.0002651113467656416, 'ganhei': 0.0005302226935312832, 'bombons': 0.0002651113467656416, 'amorzinho': 0.0002651113467656416, 'esses': 0.0005302226935312832, 'meus': 0.0002651113467656416, 'amigossss': 0.0002651113467656416, '♥️♥️♥️♥️♥️': 0.0002651113467656416, '@tmtisaac': 0.0002651113467656416, 'adolescência': 0.0002651113467656416, 'https://t.co/oes6aj2tm6': 0.0002651113467656416, 'namorado': 0.0002651113467656416, 'sinal': 0.0002651113467656416, 'tarde': 0.0002651113467656416, '@iioveviajar': 0.0002651113467656416, 'japão': 0.0002651113467656416, '🇯🇵': 0.0002651113467656416, 'https://t.co/ywg73hpglr': 0.0002651113467656416, 'gabriel': 0.0005302226935312832, 'cima': 0.0005302226935312832, 'aaaaaaaaaah': 0.0005302226935312832, 'delícia': 0.0005302226935312832, 'https://t.co/ndjn4ykqay': 0.0002651113467656416, 'começo': 0.0002651113467656416, 'dieta': 0.0002651113467656416, 'tchau': 0.0002651113467656416, '@kirchprincess': 0.0002651113467656416, 'hitar': 0.0002651113467656416, 'felipe': 0.0002651113467656416, 'nadando': 0.0002651113467656416, '@09h08_': 0.0005302226935312832, 'entao': 0.0002651113467656416, 'viver': 0.0002651113467656416, 'encontra': 0.0002651113467656416, '@viniceow': 0.0002651113467656416, 'rumo': 0.0002651113467656416, '@aguinaldinho': 0.0002651113467656416, 'pensamento': 0.0002651113467656416, 'retrógrado': 0.0002651113467656416, 'criticar': 0.0002651113467656416, 'mudou': 0.0002651113467656416, 'futebol': 0.0002651113467656416, 'brasileiro': 0.0002651113467656416, 'melh…': 0.0002651113467656416, 'https://t.co/u5m1x1aelf': 0.0002651113467656416, 'fizesse': 0.0002651113467656416, 'textão': 0.0002651113467656416, 'vez': 0.0005302226935312832, 'gastava': 0.0002651113467656416, 'ahahahahahaha': 0.0002651113467656416, 'viu': 0.0002651113467656416, '@califaphotos': 0.0002651113467656416, 'beijar': 0.0002651113467656416, 'fortalece': 0.0002651113467656416, 'amizade': 0.0002651113467656416, 'repassem': 0.0002651113467656416, 'achei': 0.0002651113467656416, 'dez': 0.0002651113467656416, 'conto': 0.0002651113467656416, 'rua': 0.0002651113467656416, 'dá': 0.0005302226935312832, 'milk': 0.0002651113467656416, 'obg': 0.0005302226935312832}\n"
     ]
    }
   ],
   "source": [
    "#Conta: P(sim|palavra)=(P(palavra|sim)+1) / P(palavras totais|sim)+P(palavras totais sem repetição)\n",
    "b = todas_em_sim\n",
    "\n",
    "#todas as palavras diferentes que existem em Pt (planilha de Teste) e em A (planilha de Treinamento)\n",
    "todasdif_interseccaoPtA = 0\n",
    "todasSoEmPt = 0\n",
    "Pt = {}\n",
    "g = 0\n",
    "todas_em_teste = 0\n",
    "#para cada post (msg)\n",
    "for msg in dfteste[\"Teste\"]:\n",
    "    #para cada palavra dentro do post (i)\n",
    "    for i in msg.split():\n",
    "        #limpando todos os caracteres\n",
    "        for caracter in range(0,len(i)):\n",
    "            i = i.strip(\",\").strip(\"'\").strip('\"').strip('#').strip(':').strip(';').strip('!').strip('(').strip(')').strip('/').strip('\\n').strip('.').strip('\\\\').strip('-').strip('$').strip('%').strip('|').strip('=').strip('*').strip('ˆ').strip('&').strip('+').strip('?').strip('›').strip('k')        #contando sua frenquencia e adicionando em A\n",
    "        #analisando cada palavra ja separada (if)\n",
    "        if not i in Pt:\n",
    "            Pt[i]=0\n",
    "            if i in A:\n",
    "                todasdif_interseccaoPtA += 1\n",
    "            else:\n",
    "                todasSoEmPt += 1\n",
    "        Pt[i]+=1\n",
    "        todas_em_teste+=1\n",
    "        if Pt[i]>=g:\n",
    "            g=Pt[i]\n",
    "            stringt = i\n",
    "print('Como curiosidade, a palavra que aparece com mais frequência em toda essa análise é a palavra \"{0}\", com uma frenquência de {1} vezes.\\n'.format(stringt,g))\n",
    "print('A quantidade de palavras DIFERENTES no UNIVERSO é {0}.'.format(len(Pt)))\n",
    "\n",
    "print('A quantidade de palavras DIFERENTES que existem tanto em Pt (planilha de Teste) quanto em A (planilha de Treinamento) é {0}'.format(todasdif_interseccaoPtA))\n",
    "\n",
    "PTeste = {}\n",
    "#A quantd\n",
    "c = len(A)+len(Pt)-todasdif_interseccaoPtA\n",
    "\n",
    "for msg2 in dfteste['Teste']:\n",
    "    for i in msg2.split():\n",
    "        #analisando cada palavra ja separada (for e if)\n",
    "        for caracter in range(0,len(i)):\n",
    "            i = i.strip(\",\").strip(\"'\").strip('\"').strip('#').strip(':').strip(';').strip('!').strip('(').strip(')').strip('/').strip('\\n').strip('.').strip('\\\\').strip('-').strip('$').strip('%').strip('|').strip('=').strip('*').strip('ˆ').strip('&').strip('+').strip('?')\n",
    "        #contando sua frenquencia e adicionando em A\n",
    "        \n",
    "        if not i in S:\n",
    "            a = 0\n",
    "            #print(i)\n",
    "        else:\n",
    "            a = S[i]\n",
    "        prob = (a+1)/(b+c)\n",
    "        #print('prob da palavra {0}: {1}'.format(i,prob))\n",
    "        PTeste[i]=prob\n",
    "        \n",
    "print(PTeste)"
   ]
  },
  {
   "cell_type": "markdown",
   "metadata": {},
   "source": [
    "___\n",
    "## Verificando a performance\n",
    "\n",
    "Agora você deve testar o seu Classificador com a base de Testes.<br /><br /> \n",
    "\n",
    "Você deve extrair as seguintes medidas:\n",
    "* Porcentagem de positivos falsos (marcados como relevante mas não são relevantes)\n",
    "* Porcentagem de positivos verdadeiros (marcado como relevante e são relevantes)\n",
    "* Porcentagem de negativos verdadeiros (marcado como não relevante e não são relevantes)\n",
    "* Porcentagem de negativos falsos (marcado como não relevante e são relevantes)\n",
    "\n",
    "Opcionalmente:\n",
    "* Criar categorias intermediárias de relevância baseado na diferença de probabilidades. Exemplo: muito relevante, relevante, neutro, irrelevante e muito irrelevante."
   ]
  },
  {
   "cell_type": "code",
   "execution_count": null,
   "metadata": {
    "collapsed": true,
    "scrolled": true
   },
   "outputs": [],
   "source": []
  },
  {
   "cell_type": "markdown",
   "metadata": {
    "collapsed": true
   },
   "source": [
    "___\n",
    "## Concluindo\n",
    "\n",
    "Escreva aqui a sua conclusão.<br /> \n",
    "Faça um comparativo qualitativo sobre as medidas obtidas.<br />\n",
    "Explique como são tratadas as mensagens com dupla negação e sarcasmo.<br />\n",
    "Proponha um plano de expansão. Por que eles devem continuar financiando o seu projeto?<br />\n",
    "\n",
    "Opcionalmente: \n",
    "* Discorrer por que não posso alimentar minha base de Treinamento automaticamente usando o próprio classificador, aplicado a novos tweets.\n",
    "* Propor diferentes cenários de uso para o classificador Naive-Bayes. Cenários sem intersecção com este projeto.\n",
    "* Sugerir e explicar melhorias reais no classificador com indicações concretas de como implementar (não é preciso codificar, mas indicar como fazer e material de pesquisa sobre o assunto).\n"
   ]
  },
  {
   "cell_type": "code",
   "execution_count": null,
   "metadata": {
    "collapsed": true
   },
   "outputs": [],
   "source": []
  }
 ],
 "metadata": {
  "kernelspec": {
   "display_name": "Python 3",
   "language": "python",
   "name": "python3"
  },
  "language_info": {
   "codemirror_mode": {
    "name": "ipython",
    "version": 3
   },
   "file_extension": ".py",
   "mimetype": "text/x-python",
   "name": "python",
   "nbconvert_exporter": "python",
   "pygments_lexer": "ipython3",
   "version": "3.6.0"
  }
 },
 "nbformat": 4,
 "nbformat_minor": 1
}
