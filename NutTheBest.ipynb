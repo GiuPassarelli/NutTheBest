{
 "cells": [
  {
   "cell_type": "markdown",
   "metadata": {},
   "source": [
    "# Projeto 2 - Classificador Automático de Sentimento\n",
    "\n",
    "Você foi contratado por uma empresa parar analisar como os clientes estão reagindo a um determinado produto no Twitter. A empresa deseja que você crie um programa que irá analisar as mensagens disponíveis e classificará como \"relevante\" ou \"irrelevante\". Com isso ela deseja que mensagens negativas, que denigrem o nome do produto, ou que mereçam destaque, disparem um foco de atenção da área de marketing.<br /><br />\n",
    "Como aluno de Ciência dos Dados, você lembrou do Teorema de Bayes, mais especificamente do Classificador Naive-Bayes, que é largamente utilizado em filtros anti-spam de e-mails. O classificador permite calcular qual a probabilidade de uma mensagem ser relevante dadas as palavras em seu conteúdo.<br /><br />\n",
    "Para realizar o MVP (*minimum viable product*) do projeto, você precisa implementar uma versão do classificador que \"aprende\" o que é relevante com uma base de treinamento e compara a performance dos resultados com uma base de testes.<br /><br />\n",
    "Após validado, o seu protótipo poderá também capturar e classificar automaticamente as mensagens da plataforma.\n",
    "\n",
    "## Informações do Projeto\n",
    "\n",
    "Prazo: 13/Set até às 23:59.<br />\n",
    "Grupo: 1 ou 2 pessoas.<br /><br />\n",
    "Entregáveis via GitHub: \n",
    "* Arquivo notebook com o código do classificador, seguindo as orientações abaixo.\n",
    "* Arquivo Excel com as bases de treinamento e teste totalmente classificado.\n",
    "\n",
    "**NÃO disponibilizar o arquivo com os *access keys/tokens* do Twitter.**\n",
    "\n",
    "\n",
    "### Check 3: \n",
    "\n",
    "Até o dia 06 de Setembro às 23:59, o notebook e o xlsx devem estar no Github com as seguintes evidências: \n",
    "    * Conta no twitter criada.\n",
    "    * Produto escolhido.\n",
    "    * Arquivo Excel contendo a base de treinamento e teste já classificado.\n",
    "\n",
    "Sugestão de leitura:<br />\n",
    "http://docs.tweepy.org/en/v3.5.0/index.html<br />\n",
    "https://monkeylearn.com/blog/practical-explanation-naive-bayes-classifier/"
   ]
  },
  {
   "cell_type": "markdown",
   "metadata": {},
   "source": [
    "___\n",
    "\n",
    "## Preparando o ambiente\n",
    "\n",
    "Instalando a biblioteca *tweepy* para realizar a conexão com o Twitter:"
   ]
  },
  {
   "cell_type": "code",
   "execution_count": 357,
   "metadata": {
    "collapsed": true
   },
   "outputs": [],
   "source": [
    "%%capture\n",
    "\n",
    "#Instalando o tweepy\n",
    "!pip install tweepy"
   ]
  },
  {
   "cell_type": "markdown",
   "metadata": {},
   "source": [
    "Importando as Bibliotecas que serão utilizadas. Esteja livre para adicionar outras."
   ]
  },
  {
   "cell_type": "code",
   "execution_count": 358,
   "metadata": {
    "collapsed": true
   },
   "outputs": [],
   "source": [
    "import tweepy\n",
    "import math\n",
    "import os.path\n",
    "import pandas as pd\n",
    "import json\n",
    "from random import shuffle"
   ]
  },
  {
   "cell_type": "markdown",
   "metadata": {},
   "source": [
    "___\n",
    "## Autenticando no  Twitter\n",
    "\n",
    "Para realizar a captura dos dados é necessário ter uma conta cadastrada no twitter:\n",
    "\n",
    "* Conta: *** @Rebecamoreno_***\n",
    "\n",
    "\n",
    "1. Caso ainda não tenha uma: https://twitter.com/signup\n",
    "1. Depois é necessário registrar um app para usar a biblioteca: https://apps.twitter.com/\n",
    "1. Dentro do registro do App, na aba Keys and Access Tokens, anotar os seguintes campos:\n",
    "    1. Consumer Key (API Key)\n",
    "    1. Consumer Secret (API Secret)\n",
    "1. Mais abaixo, gere um Token e anote também:\n",
    "    1. Access Token\n",
    "    1. Access Token Secret\n",
    "    \n",
    "1. Preencha os valores no arquivo \"auth.pass\"\n",
    "\n",
    "**ATENÇÃO**: Nunca divulgue os dados desse arquivo online (GitHub, etc). Ele contém as chaves necessárias para realizar as operações no twitter de forma automática e portanto é equivalente a ser \"hackeado\". De posse desses dados, pessoas mal intencionadas podem fazer todas as operações manuais (tweetar, seguir, bloquear/desbloquear, listar os seguidores, etc). Para efeito do projeto, esse arquivo não precisa ser entregue!!!"
   ]
  },
  {
   "cell_type": "code",
   "execution_count": 359,
   "metadata": {
    "collapsed": false
   },
   "outputs": [],
   "source": [
    "#Dados de autenticação do twitter:\n",
    "\n",
    "#Coloque aqui o identificador da conta no twitter: @fulano\n",
    "\n",
    "#leitura do arquivo no formato JSON\n",
    "with open('auth.pass') as fp:    \n",
    "    data = json.load(fp)\n",
    "\n",
    "#Configurando a biblioteca. Não modificar\n",
    "auth = tweepy.OAuthHandler(data['consumer_key'], data['consumer_secret'])\n",
    "auth.set_access_token(data['access_token'], data['access_token_secret'])"
   ]
  },
  {
   "cell_type": "markdown",
   "metadata": {},
   "source": [
    "___\n",
    "## Coletando Dados\n",
    "\n",
    "Agora vamos coletar os dados. Tenha em mente que dependendo do produto escolhido, não haverá uma quantidade significativa de mensagens, ou ainda poder haver muitos retweets.<br /><br /> \n",
    "Configurando:"
   ]
  },
  {
   "cell_type": "code",
   "execution_count": 360,
   "metadata": {
    "collapsed": true
   },
   "outputs": [],
   "source": [
    "#Produto escolhido:\n",
    "produto = 'Nutella'\n",
    "\n",
    "#Quantidade mínima de mensagens capturadas:\n",
    "n = 500\n",
    "#Quantidade mínima de mensagens para a base de treinamento:\n",
    "t = 300\n",
    "\n",
    "#Filtro de língua, escolha uma na tabela ISO 639-1.\n",
    "lang = 'pt'"
   ]
  },
  {
   "cell_type": "markdown",
   "metadata": {},
   "source": [
    "Capturando os dados do twitter:"
   ]
  },
  {
   "cell_type": "code",
   "execution_count": 361,
   "metadata": {
    "collapsed": true
   },
   "outputs": [],
   "source": [
    "#Cria um objeto para a captura\n",
    "api = tweepy.API(auth)\n",
    "\n",
    "#Inicia a captura, para mais detalhes: ver a documentação do tweepy\n",
    "i = 1\n",
    "msgs = []\n",
    "for msg in tweepy.Cursor(api.search, q=produto, lang=lang).items():    \n",
    "    msgs.append(msg.text.lower())\n",
    "    i += 1\n",
    "    if i > n:\n",
    "        break\n",
    "\n",
    "#Embaralhando as mensagens para reduzir um possível viés\n",
    "shuffle(msgs)"
   ]
  },
  {
   "cell_type": "markdown",
   "metadata": {},
   "source": [
    "Salvando os dados em uma planilha Excel:"
   ]
  },
  {
   "cell_type": "code",
   "execution_count": 362,
   "metadata": {
    "collapsed": true
   },
   "outputs": [],
   "source": [
    "#Verifica se o arquivo não existe para não substituir um conjunto pronto\n",
    "if not os.path.isfile('./{0}.xlsx'.format(produto)):\n",
    "    \n",
    "    #Abre o arquivo para escrita\n",
    "    writer = pd.ExcelWriter('{0}.xlsx'.format(produto))\n",
    "\n",
    "    #divide o conjunto de mensagens em duas planilhas\n",
    "    dft = pd.DataFrame({'Treinamento' : pd.Series(msgs[:t])})\n",
    "    dft.to_excel(excel_writer = writer, sheet_name = 'Treinamento', index = False)\n",
    "\n",
    "    dfc = pd.DataFrame({'Teste' : pd.Series(msgs[t:])})\n",
    "    dfc.to_excel(excel_writer = writer, sheet_name = 'Teste', index = False)\n",
    "\n",
    "    #fecha o arquivo\n",
    "    writer.save()"
   ]
  },
  {
   "cell_type": "markdown",
   "metadata": {},
   "source": [
    "___\n",
    "## Classificando as Mensagens\n",
    "\n",
    "Agora você deve abrir o arquivo Excel com as mensagens capturadas e classificar na Coluna B se a mensagem é relevante ou não.<br /> \n",
    "Não se esqueça de colocar um nome para a coluna na célula **B1**.<br /><br />\n",
    "Fazer o mesmo na planilha de Controle.\n",
    "\n",
    "___\n",
    "## Montando o Classificador Naive-Bayes\n",
    "\n",
    "Com a base de treinamento montada, comece a desenvolver o classificador. Escreva o seu código abaixo:\n",
    "\n",
    "Opcionalmente: \n",
    "* Limpar as mensagens removendo os caracteres: enter, :, \", ', (, ), etc. Não remover emojis.<br />\n",
    "* Corrigir separação de espaços entre palavras e/ou emojis.\n",
    "* Propor outras limpezas/transformações que não afetem a qualidade da informação.\n",
    "\n"
   ]
  },
  {
   "cell_type": "code",
   "execution_count": 363,
   "metadata": {
    "collapsed": false
   },
   "outputs": [],
   "source": [
    "dft = pd.read_excel('./{0}.xlsx'.format(produto),sheet='Treinamento')\n",
    "dftsim = dft[(dft.Relevante==\"Sim\")]\n",
    "dftnao = dft[(dft.Relevante==\"Não\")]"
   ]
  },
  {
   "cell_type": "code",
   "execution_count": 364,
   "metadata": {
    "collapsed": false
   },
   "outputs": [],
   "source": [
    "lendo = pd.ExcelFile('./{0}.xlsx'.format(produto))\n",
    "dfteste = lendo.parse(\"Teste\")"
   ]
  },
  {
   "cell_type": "code",
   "execution_count": 412,
   "metadata": {
    "collapsed": false
   },
   "outputs": [
    {
     "name": "stdout",
     "output_type": "stream",
     "text": [
      "Como curiosidade, a palavra que aparece com mais frequência em toda essa análise é a palavra \"nutella\", com uma frenquência de 228 vezes.\n",
      "\n",
      "Como curiosidade, a palavra que aparece com mais frequência entre todas as palavras de RELEVANTES é a palavra \"nutella\", com uma frenquência de 140 vezes.\n",
      "\n",
      "Como curiosidade, a palavra que aparece com mais frequência entre todas as palavras de NÃO RELEVANTES é a palavra \"nutella\", com uma frenquência de 88 vezes.\n",
      "\n",
      "A quantidade TOTAL de palavras no UNIVERSO é 3588.\n",
      "A quantidade TOTAL de palavras dentro de RELEVANTES é 1686.\n",
      "A quantidade TOTAL de palavras dentro de NÃO RELEVANTES é 1902.\n",
      "\n",
      "A quantidade de palavras DIFERENTES no UNIVERSO é 1170.\n",
      "A quantidade de palavras DIFERENTES dentro de RELEVANTES é 574.\n",
      "A quantidade de palavras DIFERENTES dentro de NÃO RELEVANTES é 777.\n"
     ]
    }
   ],
   "source": [
    "#defindo funcao que limpa a frase dada removendo caracteres e se houver\n",
    "def limpadorcaracter(frase):\n",
    "    #rodando para cada palavra da frase recebida \n",
    "    for palavra in frase.split():\n",
    "        #rodando para cada letra da palavra\n",
    "        for letras in palavra:\n",
    "            if letras == '@' or 'https' in palavra or 'kk' in palavra or 'kkk' in palavra:\n",
    "                frase = frase.replace(palavra,\"\").replace('  ',' ')\n",
    "            if not '@' in palavra and (letras == (\",\") or letras == \"'\" or letras == '\"' or letras == '[' or letras == '‹' or letras == ']' or letras == '#' or letras == ':' or letras == ';' or letras == '›' or letras == '!' or letras == '(' or letras == ')' or letras == '/' or letras == '\\n' or letras == '.' or letras == '\\\\' or letras == '-' or letras == '$' or letras == '%' or letras == '|' or letras == '=' or letras == '*' or letras == 'ˆ' or letras == '&' or letras == '+' or letras == ('?')):\n",
    "                palavra = palavra.replace(letras,\" \")\n",
    "                frase = frase.replace(letras,\" \")\n",
    "    return frase\n",
    "\n",
    "# A, S e N são dicionários com as frequências de cada uma das palavras separadas (splitadas).\n",
    "A = {}\n",
    "S = {}\n",
    "N = {}\n",
    "todas = 0\n",
    "c=0\n",
    "#para cada post (msg)\n",
    "for msg in dft[\"Treinamento\"]:\n",
    "    #para cada palavra dentro do post (i)\n",
    "    frase = limpadorcaracter(msg)\n",
    "    for i in frase.split():\n",
    "        #analisando cada palavra ja separada (for e if)\n",
    "        #contando sua frenquencia e adicionando em A\n",
    "        if not i in A:\n",
    "            A[i]=0\n",
    "        A[i]+=1\n",
    "        todas+=1\n",
    "        if A[i]>=c:\n",
    "            c=A[i]\n",
    "            string = i\n",
    "\n",
    "print('Como curiosidade, a palavra que aparece com mais frequência em toda essa análise é a palavra \"{0}\", com uma frenquência de {1} vezes.\\n'.format(string,c))\n",
    "todas_em_sim = 0\n",
    "p = 0\n",
    "#para cada post (msg)\n",
    "for msg in dftsim[\"Treinamento\"]:\n",
    "    #para cada palavra dentro do post (i)\n",
    "    frase = limpadorcaracter(msg)\n",
    "    for i in frase.split():\n",
    "        #analisando cada palavra ja limpa\n",
    "        #contando sua frenquencia e adicionando em A\n",
    "        if not i in S:\n",
    "            S[i]=0\n",
    "        S[i]+=1\n",
    "        todas_em_sim+=1\n",
    "        if S[i]>=p:\n",
    "            p=S[i]\n",
    "            strings = i\n",
    "            \n",
    "print('Como curiosidade, a palavra que aparece com mais frequência entre todas as palavras de RELEVANTES é a palavra \"{0}\", com uma frenquência de {1} vezes.\\n'.format(strings,p))\n",
    "todas_em_nao = 0\n",
    "f = 0\n",
    "#para cada post (msg)\n",
    "for msg in dftnao[\"Treinamento\"]:\n",
    "    #para cada palavra dentro do post (i)\n",
    "    frase = limpadorcaracter(msg)\n",
    "    for i in frase.split():\n",
    "        #analisando cada palavra ja separada (for e if)\n",
    "        #contando sua frenquencia e adicionando em A\n",
    "        if not i in N:\n",
    "            N[i]=0\n",
    "        N[i]+=1\n",
    "        todas_em_nao+=1\n",
    "        if N[i]>=f:\n",
    "            f=N[i]\n",
    "            stringn = i\n",
    "print('Como curiosidade, a palavra que aparece com mais frequência entre todas as palavras de NÃO RELEVANTES é a palavra \"{0}\", com uma frenquência de {1} vezes.\\n'.format(stringn,f))\n",
    "print('A quantidade TOTAL de palavras no UNIVERSO é {0}.'.format(todas))\n",
    "print('A quantidade TOTAL de palavras dentro de RELEVANTES é {0}.'.format(todas_em_sim))\n",
    "print('A quantidade TOTAL de palavras dentro de NÃO RELEVANTES é {0}.\\n'.format(todas_em_nao))\n",
    "print('A quantidade de palavras DIFERENTES no UNIVERSO é {0}.'.format(len(A)))\n",
    "print('A quantidade de palavras DIFERENTES dentro de RELEVANTES é {0}.'.format(len(S)))\n",
    "print('A quantidade de palavras DIFERENTES dentro de NÃO RELEVANTES é {0}.'.format(len(N)))"
   ]
  },
  {
   "cell_type": "code",
   "execution_count": 366,
   "metadata": {
    "collapsed": false
   },
   "outputs": [],
   "source": [
    "#Calculando a probabilidade de cada palavra de ser relevante ou nao, para depois calcular a de cada frase de ser relevante ou nao\n",
    "#Teorema de Naive Bayes: \n",
    "#P(sim|palavra)=(P(palavra|sim)+1) / P(palavras totais|sim)+P(palavras totais sem repetição)\n",
    "#Em outras palavras:\n",
    "#A prob de ser relevante dada a palavra é igual a prob da palavra dado que ela é relevante mais 1 \n",
    "#(para o caso de a palavra nao existir no grupo de relevantes), tudo isso dividido pela prob de todas as palavras dentro de relevante\n",
    "#mais a prob das palavras totais sem repeticao do universo inteiro.\n",
    "\n",
    "bs = todas_em_sim\n",
    "bn = todas_em_nao\n",
    "c = len(A)\n",
    "PS = {}\n",
    "PN = {}\n",
    "TSim = dftsim[\"Treinamento\"].count()\n",
    "TNao = dftnao[\"Treinamento\"].count()\n",
    "TTotal = dft[\"Treinamento\"].count()\n",
    "ListaPtweetS=[]\n",
    "ListaPtweetN=[]\n",
    "Resultado=[]\n",
    "addmsgs = []\n",
    "\n",
    "for msg2 in dfteste['Teste']:\n",
    "    #Para sim:\n",
    "    PtweetS = (TSim/TTotal)\n",
    "    for i in msg2.split():\n",
    "        #analisando cada palavra ja separada (for e if)\n",
    "        for caracter in range(0,len(i)):\n",
    "            i = i.strip(\",\").strip(\"'\").strip('\"').strip('#').strip(':').strip(';').strip('!').strip('(').strip(')').strip('/').strip('\\n').strip('.').strip('\\\\').strip('-').strip('$').strip('%').strip('|').strip('=').strip('*').strip('ˆ').strip('&').strip('+').strip('?')\n",
    "        #contando sua frenquencia e adicionando em A\n",
    "        \n",
    "        if i in S:\n",
    "            PS[i] = (S[i]+1)/(bs+c)\n",
    "            \n",
    "        else:\n",
    "            PS[i] = 1/(bs+c)\n",
    "            \n",
    "        PtweetS = PtweetS*PS[i]\n",
    "    ListaPtweetS.append(PtweetS)\n",
    "    addmsgs.append(msg2)\n",
    "        \n",
    "    #Para não:\n",
    "    PtweetN = (TNao/TTotal)\n",
    "    for i in msg2.split():\n",
    "        #analisando cada palavra ja separada (for e if)\n",
    "        for caracter in range(0,len(i)):\n",
    "            i = i.strip(\",\").strip(\"'\").strip('\"').strip('#').strip(':').strip(';').strip('!').strip('(').strip(')').strip('/').strip('\\n').strip('.').strip('\\\\').strip('-').strip('$').strip('%').strip('|').strip('=').strip('*').strip('ˆ').strip('&').strip('+').strip('?')\n",
    "        #contando sua frenquencia e adicionando em A\n",
    "        \n",
    "        if i in N:\n",
    "            PN[i] = (N[i]+1)/(bn+c)\n",
    "            \n",
    "        else:\n",
    "            PN[i] = 1/(bn+c)\n",
    "        \n",
    "        PtweetN = PtweetN*PN[i]\n",
    "    ListaPtweetN.append(PtweetN)\n",
    "    #addmsgs.append(msg2)\n",
    "        \n",
    "for i in range(len(ListaPtweetS)):\n",
    "    #Se a Probabilidade da frase for maior em Relevante do que Irrelevante, então, classifique-a como Relevante\n",
    "    if ListaPtweetS[i]>ListaPtweetN[i]:\n",
    "        Resultado.append(\"Sim\")\n",
    "    #Caso contrário, classifique-a como Não Relevante\n",
    "    if ListaPtweetN[i]>ListaPtweetS[i]:\n",
    "        Resultado.append(\"Não\")\n",
    "\n",
    "#criando a coluna Resultado, ou seja, os resultados do Classificador conforme as probabilidades \n",
    "#das frases de estarem ou em Relevante ou em Não Relevante\n",
    "dfteste[\"Resultado\"] = Resultado"
   ]
  },
  {
   "cell_type": "markdown",
   "metadata": {},
   "source": [
    "___\n",
    "## Verificando a performance\n",
    "\n",
    "Agora você deve testar o seu Classificador com a base de Testes.<br /><br /> \n",
    "\n",
    "Você deve extrair as seguintes medidas:\n",
    "* Porcentagem de positivos falsos (marcados como relevante mas não são relevantes)\n",
    "* Porcentagem de positivos verdadeiros (marcado como relevante e são relevantes)\n",
    "* Porcentagem de negativos verdadeiros (marcado como não relevante e não são relevantes)\n",
    "* Porcentagem de negativos falsos (marcado como não relevante e são relevantes)\n",
    "\n",
    "Opcionalmente:\n",
    "* Criar categorias intermediárias de relevância baseado na diferença de probabilidades. Exemplo: muito relevante, relevante, neutro, irrelevante e muito irrelevante."
   ]
  },
  {
   "cell_type": "code",
   "execution_count": 410,
   "metadata": {
    "collapsed": false,
    "scrolled": true
   },
   "outputs": [
    {
     "name": "stdout",
     "output_type": "stream",
     "text": [
      "168 respostas feitas pelo Classificador coincidem com o grupo de Relevante. Ou seja, 84.0% das respostas do Classificador são bem sucedidas.\n",
      "Enquanto que 32 respostas feitas pelo Classificador não coincidem com o grupo de Relevante. Ou seja, 16.0% das respostas do Classificador são mal sucedidas.\n"
     ]
    }
   ],
   "source": [
    "#Definindo variáveis\n",
    "Igual = 0\n",
    "Diferente = 0\n",
    "#para cada post de Teste:\n",
    "for i in range(dfteste[\"Teste\"].count()):\n",
    "    #se a resposta de Relevante for igual a resposta de Resultado entao adicione um a Igual (eles sao iguais)\n",
    "    if dfteste[\"Relevante\"][i] == dfteste[\"Resultado\"][i]:\n",
    "        Igual+=1\n",
    "    else:\n",
    "        Diferente+=1\n",
    "        \n",
    "print('{0} respostas feitas pelo Classificador coincidem com o grupo de Relevante. Ou seja, {1}% das respostas do Classificador são bem sucedidas.'.format(Igual,Igual/(Igual+Diferente)*100))\n",
    "print('Enquanto que {0} respostas feitas pelo Classificador não coincidem com o grupo de Relevante. Ou seja, {1}% das respostas do Classificador são mal sucedidas.'.format(Diferente,Diferente/(Igual+Diferente)*100))"
   ]
  },
  {
   "cell_type": "code",
   "execution_count": 411,
   "metadata": {
    "collapsed": false
   },
   "outputs": [],
   "source": [
    "#definindo as variaveis para confirmar os positivos e negativos\n",
    "PosFalso = 0\n",
    "PosVer = 0\n",
    "NegVer = 0\n",
    "NegFalso = 0\n",
    "#criando a lista que guardará as strings classificadoras ('Positivo Falso','Positivo Verdadeiro','Negativo Verdadeiro' e 'Negativo Falso')\n",
    "PeN = []\n",
    "\n",
    "for i in range(dfteste[\"Teste\"].count()):\n",
    "    #analisando os resultados, do mesmo post, do Classificador e do grupo Relevante feito por nós e adicionando a lista\n",
    "    if dfteste[\"Relevante\"][i]=='Não' and dfteste[\"Resultado\"][i]=='Sim':\n",
    "        PosFalso+=1\n",
    "        PeN.append('Positivo Falso')\n",
    "\n",
    "    if dfteste[\"Relevante\"][i]=='Sim' and dfteste[\"Resultado\"][i]=='Sim':\n",
    "        PosVer+=1\n",
    "        PeN.append('Positivo Verdadeiro')\n",
    "        \n",
    "    if dfteste[\"Relevante\"][i]=='Não' and dfteste[\"Resultado\"][i]=='Não':\n",
    "        NegVer+=1\n",
    "        PeN.append('Negativo Verdadeiro')\n",
    "        \n",
    "    if dfteste[\"Relevante\"][i]=='Sim' and dfteste[\"Resultado\"][i]=='Não':\n",
    "        NegFalso+=1\n",
    "        PeN.append('Negativo Falso')        \n",
    "\n",
    "#adicinando a coluna ao DataFrame\n",
    "dfteste[\"pn\"] = PeN\n",
    "#dfteste"
   ]
  },
  {
   "cell_type": "code",
   "execution_count": 413,
   "metadata": {
    "collapsed": false
   },
   "outputs": [
    {
     "data": {
      "image/png": "[encoded data removed]",
      "text/plain": [
       "<matplotlib.figure.Figure at 0x116a72390>"
      ]
     },
     "metadata": {},
     "output_type": "display_data"
    },
    {
     "name": "stdout",
     "output_type": "stream",
     "text": [
      "Quantidade dos respectivos Positivos e Negativos (sem porcentagem):\n"
     ]
    },
    {
     "data": {
      "text/plain": [
       "Positivo Verdadeiro    86\n",
       "Negativo Verdadeiro    82\n",
       "Positivo Falso         20\n",
       "Negativo Falso         12\n",
       "Name: pn, dtype: int64"
      ]
     },
     "execution_count": 413,
     "metadata": {},
     "output_type": "execute_result"
    }
   ],
   "source": [
    "import matplotlib.pyplot as plt\n",
    "k = dfteste.pn.value_counts()/len(PeN)*100\n",
    "s = k.reindex(['Positivo Falso','Positivo Verdadeiro','Negativo Verdadeiro','Negativo Falso'])\n",
    "plot = s.plot(kind='pie',title='Positivos e Negativos (em porcentagem)',autopct='%.1f',figsize=(5, 5))\n",
    "plt.show()\n",
    "\n",
    "#fazendo tabelas\n",
    "# pnRes = pd.crosstab(dfteste.pn,dfteste.Resultado,margins=True,rownames=['Positivos e Negativos'], colnames=['Resultado'])\n",
    "# pnRel = pd.crosstab(dfteste.pn,dfteste.Resultado,margins=True,rownames=['Positivos e Negativos'], colnames=['Relevante'])\n",
    "# print('Quantidade dos respectivos Positivos e Negativos do Classificador:\\n')\n",
    "# print(pnRes) \n",
    "# print('\\n') \n",
    "# print('Quantidade dos respectivos Positivos e Negativos do grupo Relevante:\\n')\n",
    "# print(pnRel)\n",
    "\n",
    "print('Quantidade dos respectivos Positivos e Negativos (sem porcentagem):')\n",
    "dfteste.pn.value_counts()"
   ]
  },
  {
   "cell_type": "markdown",
   "metadata": {},
   "source": [
    "        Neste gráfico de setor, percebemos que a porcentagem de positivos verdadeiros e de negativos verdadeiros classificados é de 43% e 41%, respectivamente, o que significa que, em sua maioria, o Classificador usado funciona para 84% dos casos (a soma dos dois verdadeiros). Com isso, concluimos que, como as respostas do nosso Classificador coincidem 168 vezes dentre 200 (84%), ele poderia melhorar, chegando perto de 100% de sucesso, entretanto nunca chegaria a acertar as 200 vezes."
   ]
  },
  {
   "cell_type": "markdown",
   "metadata": {
    "collapsed": true
   },
   "source": [
    "___\n",
    "## Concluindo\n",
    "\n",
    "Escreva aqui a sua conclusão.<br /> \n",
    "Faça um comparativo qualitativo sobre as medidas obtidas.<br />\n",
    "Explique como são tratadas as mensagens com dupla negação e sarcasmo.<br />\n",
    "Proponha um plano de expansão. Por que eles devem continuar financiando o seu projeto?<br />\n",
    "\n",
    "Opcionalmente: \n",
    "* Discorrer por que não posso alimentar minha base de Treinamento automaticamente usando o próprio classificador, aplicado a novos tweets.\n",
    "* Propor diferentes cenários de uso para o classificador Naive-Bayes. Cenários sem intersecção com este projeto.\n",
    "* Sugerir e explicar melhorias reais no classificador com indicações concretas de como implementar (não é preciso codificar, mas indicar como fazer e material de pesquisa sobre o assunto).\n"
   ]
  },
  {
   "cell_type": "code",
   "execution_count": null,
   "metadata": {
    "collapsed": false
   },
   "outputs": [],
   "source": []
  },
  {
   "cell_type": "code",
   "execution_count": null,
   "metadata": {
    "collapsed": false
   },
   "outputs": [],
   "source": []
  },
  {
   "cell_type": "code",
   "execution_count": null,
   "metadata": {
    "collapsed": false
   },
   "outputs": [],
   "source": []
  },
  {
   "cell_type": "code",
   "execution_count": null,
   "metadata": {
    "collapsed": true
   },
   "outputs": [],
   "source": []
  }
 ],
 "metadata": {
  "kernelspec": {
   "display_name": "Python 3",
   "language": "python",
   "name": "python3"
  },
  "language_info": {
   "codemirror_mode": {
    "name": "ipython",
    "version": 3
   },
   "file_extension": ".py",
   "mimetype": "text/x-python",
   "name": "python",
   "nbconvert_exporter": "python",
   "pygments_lexer": "ipython3",
   "version": "3.6.0"
  }
 },
 "nbformat": 4,
 "nbformat_minor": 1
}
