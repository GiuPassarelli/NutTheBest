{
 "cells": [
  {
   "cell_type": "markdown",
   "metadata": {},
   "source": [
    "# Projeto 2 - Classificador Automático de Sentimento\n",
    "\n",
    "Você foi contratado por uma empresa parar analisar como os clientes estão reagindo a um determinado produto no Twitter. A empresa deseja que você crie um programa que irá analisar as mensagens disponíveis e classificará como \"relevante\" ou \"irrelevante\". Com isso ela deseja que mensagens negativas, que denigrem o nome do produto, ou que mereçam destaque, disparem um foco de atenção da área de marketing.<br /><br />\n",
    "Como aluno de Ciência dos Dados, você lembrou do Teorema de Bayes, mais especificamente do Classificador Naive-Bayes, que é largamente utilizado em filtros anti-spam de e-mails. O classificador permite calcular qual a probabilidade de uma mensagem ser relevante dadas as palavras em seu conteúdo.<br /><br />\n",
    "Para realizar o MVP (*minimum viable product*) do projeto, você precisa implementar uma versão do classificador que \"aprende\" o que é relevante com uma base de treinamento e compara a performance dos resultados com uma base de testes.<br /><br />\n",
    "Após validado, o seu protótipo poderá também capturar e classificar automaticamente as mensagens da plataforma.\n",
    "\n",
    "## Informações do Projeto\n",
    "\n",
    "Prazo: 13/Set até às 23:59.<br />\n",
    "Grupo: 1 ou 2 pessoas.<br /><br />\n",
    "Entregáveis via GitHub: \n",
    "* Arquivo notebook com o código do classificador, seguindo as orientações abaixo.\n",
    "* Arquivo Excel com as bases de treinamento e teste totalmente classificado.\n",
    "\n",
    "**NÃO disponibilizar o arquivo com os *access keys/tokens* do Twitter.**\n",
    "\n",
    "\n",
    "### Check 3: \n",
    "\n",
    "Até o dia 06 de Setembro às 23:59, o notebook e o xlsx devem estar no Github com as seguintes evidências: \n",
    "    * Conta no twitter criada.\n",
    "    * Produto escolhido.\n",
    "    * Arquivo Excel contendo a base de treinamento e teste já classificado.\n",
    "\n",
    "Sugestão de leitura:<br />\n",
    "http://docs.tweepy.org/en/v3.5.0/index.html<br />\n",
    "https://monkeylearn.com/blog/practical-explanation-naive-bayes-classifier/"
   ]
  },
  {
   "cell_type": "markdown",
   "metadata": {},
   "source": [
    "___\n",
    "\n",
    "## Preparando o ambiente\n",
    "\n",
    "Instalando a biblioteca *tweepy* para realizar a conexão com o Twitter:"
   ]
  },
  {
   "cell_type": "code",
   "execution_count": 1,
   "metadata": {
    "collapsed": true
   },
   "outputs": [],
   "source": [
    "%%capture\n",
    "\n",
    "#Instalando o tweepy\n",
    "!pip install tweepy"
   ]
  },
  {
   "cell_type": "markdown",
   "metadata": {},
   "source": [
    "Importando as Bibliotecas que serão utilizadas. Esteja livre para adicionar outras."
   ]
  },
  {
   "cell_type": "code",
   "execution_count": 2,
   "metadata": {
    "collapsed": true
   },
   "outputs": [],
   "source": [
    "import tweepy\n",
    "import math\n",
    "import os.path\n",
    "import pandas as pd\n",
    "import json\n",
    "from random import shuffle"
   ]
  },
  {
   "cell_type": "markdown",
   "metadata": {},
   "source": [
    "___\n",
    "## Autenticando no  Twitter\n",
    "\n",
    "Para realizar a captura dos dados é necessário ter uma conta cadastrada no twitter:\n",
    "\n",
    "* Conta: *** @Rebecamoreno_***\n",
    "\n",
    "\n",
    "1. Caso ainda não tenha uma: https://twitter.com/signup\n",
    "1. Depois é necessário registrar um app para usar a biblioteca: https://apps.twitter.com/\n",
    "1. Dentro do registro do App, na aba Keys and Access Tokens, anotar os seguintes campos:\n",
    "    1. Consumer Key (API Key)\n",
    "    1. Consumer Secret (API Secret)\n",
    "1. Mais abaixo, gere um Token e anote também:\n",
    "    1. Access Token\n",
    "    1. Access Token Secret\n",
    "    \n",
    "1. Preencha os valores no arquivo \"auth.pass\"\n",
    "\n",
    "**ATENÇÃO**: Nunca divulgue os dados desse arquivo online (GitHub, etc). Ele contém as chaves necessárias para realizar as operações no twitter de forma automática e portanto é equivalente a ser \"hackeado\". De posse desses dados, pessoas mal intencionadas podem fazer todas as operações manuais (tweetar, seguir, bloquear/desbloquear, listar os seguidores, etc). Para efeito do projeto, esse arquivo não precisa ser entregue!!!"
   ]
  },
  {
   "cell_type": "code",
   "execution_count": 3,
   "metadata": {
    "collapsed": true
   },
   "outputs": [],
   "source": [
    "#Dados de autenticação do twitter:\n",
    "\n",
    "#Coloque aqui o identificador da conta no twitter: @fulano\n",
    "\n",
    "#leitura do arquivo no formato JSON\n",
    "with open('auth.pass') as fp:    \n",
    "    data = json.load(fp)\n",
    "\n",
    "#Configurando a biblioteca. Não modificar\n",
    "auth = tweepy.OAuthHandler(data['consumer_key'], data['consumer_secret'])\n",
    "auth.set_access_token(data['access_token'], data['access_token_secret'])"
   ]
  },
  {
   "cell_type": "markdown",
   "metadata": {},
   "source": [
    "___\n",
    "## Coletando Dados\n",
    "\n",
    "Agora vamos coletar os dados. Tenha em mente que dependendo do produto escolhido, não haverá uma quantidade significativa de mensagens, ou ainda poder haver muitos retweets.<br /><br /> \n",
    "Configurando:"
   ]
  },
  {
   "cell_type": "code",
   "execution_count": 4,
   "metadata": {
    "collapsed": true
   },
   "outputs": [],
   "source": [
    "#Produto escolhido:\n",
    "produto = 'Nutella'\n",
    "\n",
    "#Quantidade mínima de mensagens capturadas:\n",
    "n = 500\n",
    "#Quantidade mínima de mensagens para a base de treinamento:\n",
    "t = 300\n",
    "\n",
    "#Filtro de língua, escolha uma na tabela ISO 639-1.\n",
    "lang = 'pt'"
   ]
  },
  {
   "cell_type": "markdown",
   "metadata": {},
   "source": [
    "Capturando os dados do twitter:"
   ]
  },
  {
   "cell_type": "code",
   "execution_count": 5,
   "metadata": {
    "collapsed": true
   },
   "outputs": [],
   "source": [
    "#Cria um objeto para a captura\n",
    "api = tweepy.API(auth)\n",
    "\n",
    "#Inicia a captura, para mais detalhes: ver a documentação do tweepy\n",
    "i = 1\n",
    "msgs = []\n",
    "for msg in tweepy.Cursor(api.search, q=produto, lang=lang).items():    \n",
    "    msgs.append(msg.text.lower())\n",
    "    i += 1\n",
    "    if i > n:\n",
    "        break\n",
    "\n",
    "#Embaralhando as mensagens para reduzir um possível viés\n",
    "shuffle(msgs)"
   ]
  },
  {
   "cell_type": "markdown",
   "metadata": {},
   "source": [
    "Salvando os dados em uma planilha Excel:"
   ]
  },
  {
   "cell_type": "code",
   "execution_count": 6,
   "metadata": {
    "collapsed": true
   },
   "outputs": [],
   "source": [
    "#Verifica se o arquivo não existe para não substituir um conjunto pronto\n",
    "if not os.path.isfile('./{0}.xlsx'.format(produto)):\n",
    "    \n",
    "    #Abre o arquivo para escrita\n",
    "    writer = pd.ExcelWriter('{0}.xlsx'.format(produto))\n",
    "\n",
    "    #divide o conjunto de mensagens em duas planilhas\n",
    "    dft = pd.DataFrame({'Treinamento' : pd.Series(msgs[:t])})\n",
    "    dft.to_excel(excel_writer = writer, sheet_name = 'Treinamento', index = False)\n",
    "\n",
    "    dfc = pd.DataFrame({'Teste' : pd.Series(msgs[t:])})\n",
    "    dfc.to_excel(excel_writer = writer, sheet_name = 'Teste', index = False)\n",
    "\n",
    "    #fecha o arquivo\n",
    "    writer.save()"
   ]
  },
  {
   "cell_type": "markdown",
   "metadata": {},
   "source": [
    "___\n",
    "## Classificando as Mensagens\n",
    "\n",
    "Agora você deve abrir o arquivo Excel com as mensagens capturadas e classificar na Coluna B se a mensagem é relevante ou não.<br /> \n",
    "Não se esqueça de colocar um nome para a coluna na célula **B1**.<br /><br />\n",
    "Fazer o mesmo na planilha de Controle.\n",
    "\n",
    "___\n",
    "## Montando o Classificador Naive-Bayes\n",
    "\n",
    "Com a base de treinamento montada, comece a desenvolver o classificador. Escreva o seu código abaixo:\n",
    "\n",
    "Opcionalmente: \n",
    "* Limpar as mensagens removendo os caracteres: enter, :, \", ', (, ), etc. Não remover emojis.<br />\n",
    "* Corrigir separação de espaços entre palavras e/ou emojis.\n",
    "* Propor outras limpezas/transformações que não afetem a qualidade da informação.\n",
    "\n"
   ]
  },
  {
   "cell_type": "markdown",
   "metadata": {},
   "source": [
    "### DataFrames para relevante e não é relevante separados (na planilha treinamento):"
   ]
  },
  {
   "cell_type": "code",
   "execution_count": 7,
   "metadata": {
    "collapsed": true
   },
   "outputs": [],
   "source": [
    "dft = pd.read_excel('./{0}.xlsx'.format(produto),sheet='Treinamento')\n",
    "dftsim = dft[(dft.Relevante==\"Sim\")]\n",
    "dftnao = dft[(dft.Relevante==\"Não\")]"
   ]
  },
  {
   "cell_type": "markdown",
   "metadata": {},
   "source": [
    "### DataFrame para a planilha de teste:"
   ]
  },
  {
   "cell_type": "code",
   "execution_count": 8,
   "metadata": {
    "collapsed": true
   },
   "outputs": [],
   "source": [
    "lendo = pd.ExcelFile('./{0}.xlsx'.format(produto))\n",
    "dfteste = lendo.parse(\"Teste\")"
   ]
  },
  {
   "cell_type": "markdown",
   "metadata": {},
   "source": [
    "### Função que limpa os tweets (remove vírgulas, aspas, nomes dos usuários,...):"
   ]
  },
  {
   "cell_type": "code",
   "execution_count": 9,
   "metadata": {
    "collapsed": true
   },
   "outputs": [],
   "source": [
    "def limpadorcaracter(frase):\n",
    "    #rodando para cada palavra da frase recebida \n",
    "    for palavra in frase.split():\n",
    "        #igualando algumas expressões à correta\n",
    "        if palavra == 'oq':\n",
    "            frase = frase.replace('oq',\"o que\")\n",
    "            palavra = palavra.replace('oq',\"o que\")\n",
    "        if palavra == 'hj':\n",
    "            frase = frase.replace('hj',\"hoje\")\n",
    "            palavra = palavra.replace('hj',\"hoje\")\n",
    "        if palavra == 'pq' or palavra == 'porq':\n",
    "            frase = frase.replace(palavra,\"porque\")\n",
    "            palavra = palavra.replace(palavra,\"porque\")\n",
    "        if palavra == 'dnv':\n",
    "            frase = frase.replace('dnv',\"de novo\")\n",
    "            palavra = palavra.replace('dnv',\"de novo\")\n",
    "        if palavra == 'cê' or palavra == 'vc':\n",
    "            frase = frase.replace(palavra,\"você\")\n",
    "            palavra = palavra.replace(palavra,\"você\")\n",
    "            #print(frase.replace(palavra,\"você\"))\n",
    "            #print(palavra)\n",
    "        if palavra == 'n' or palavra == 'nao':\n",
    "            frase = frase.replace(palavra,\"não\")\n",
    "            palavra = palavra.replace(palavra,\"não\")\n",
    "        if palavra == 'vcs':\n",
    "            frase = frase.replace(palavra,\"vocês\")\n",
    "            palavra = palavra.replace(palavra,\"vocês\")\n",
    "        if palavra == 'mds':\n",
    "            frase = frase.replace('mds',\"meu deus\")\n",
    "            palavra = palavra.replace('mds',\"meu deus\")\n",
    "        if palavra == 'td':\n",
    "            frase = frase.replace('td',\"tudo\")\n",
    "            palavra = palavra.replace('td',\"tudo\")\n",
    "        if palavra == 'eae' or palavra == 'eai' or palavra == 'oii':\n",
    "            frase = frase.replace(palavra,\"oi\")\n",
    "            palavra = palavra.replace(palavra,\"oi\")\n",
    "        if palavra == 'mt' or palavra == 'mto':\n",
    "            frase = frase.replace(palavra,\"muito\")\n",
    "            palavra = palavra.replace(palavra,\"muito\")\n",
    "        #rodando para cada letra da palavra\n",
    "        for letras in palavra:\n",
    "            if letras == '@' or 'https:'in palavra or 'https://t.co/' in palavra or 'https' in palavra or 't.co' in palavra or 'kk' in palavra or 'kkk' in palavra: \n",
    "                frase = frase.replace(palavra,\"\").replace('  ',' ')\n",
    "            if (letras == (\",\") or letras == \"'\" or letras == '\"' or letras == '[' or letras == '‹' or letras == ']' or letras == '#' or letras == ':' or letras == ';' or letras == '›' or letras == '!' or letras == '(' or letras == ')' or letras == '/' or letras == '\\n' or letras == '.' or letras == '\\\\' or letras == '-' or letras == '$' or letras == '%' or letras == '|' or letras == '=' or letras == '*' or letras == 'ˆ' or letras == '&' or letras == '+' or letras == ('?')):\n",
    "                palavra = palavra.replace(letras,\" \")\n",
    "                frase = frase.replace(letras,\" \")\n",
    "        frase = frase.split()\n",
    "        frase = \" \".join(frase)\n",
    "        \n",
    "    return frase"
   ]
  },
  {
   "cell_type": "markdown",
   "metadata": {},
   "source": [
    "### Contagem do total de palavras nos tweets:"
   ]
  },
  {
   "cell_type": "code",
   "execution_count": 10,
   "metadata": {},
   "outputs": [
    {
     "name": "stdout",
     "output_type": "stream",
     "text": [
      "Como curiosidade, a palavra que aparece com mais frequência em toda essa análise é a palavra \"nutella\", com uma frenquência de 221 vezes.\n",
      "\n"
     ]
    }
   ],
   "source": [
    "A = {}     #Dicionário com as palavras dos tweets\n",
    "todas = 0  #Contador das palavras no total \n",
    "c=0        #Frequência da palavra mais frequente\n",
    "\n",
    "#para cada post (msg)\n",
    "for msg in dft[\"Treinamento\"]:\n",
    "    #para cada palavra dentro do post (i)\n",
    "    frase = limpadorcaracter(msg)\n",
    "    for i in frase.split():\n",
    "        #analisando cada palavra já limpa\n",
    "        #contando sua frenquencia e adicionando em A\n",
    "        if not i in A:\n",
    "            A[i]=0\n",
    "        A[i]+=1\n",
    "        todas+=1\n",
    "        if A[i]>=c:\n",
    "            c=A[i]\n",
    "            string = i\n",
    "print('Como curiosidade, a palavra que aparece com mais frequência em toda essa análise é a palavra \"{0}\", com uma frenquência de {1} vezes.\\n'.format(string,c))"
   ]
  },
  {
   "cell_type": "markdown",
   "metadata": {},
   "source": [
    "### Contagem do total de palavras relevantes:"
   ]
  },
  {
   "cell_type": "code",
   "execution_count": 11,
   "metadata": {},
   "outputs": [
    {
     "name": "stdout",
     "output_type": "stream",
     "text": [
      "Como curiosidade, a palavra que aparece com mais frequência entre todas as palavras de RELEVANTES é a palavra \"nutella\", com uma frenquência de 137 vezes.\n",
      "\n"
     ]
    }
   ],
   "source": [
    "S = {}            #Dicionário com as palavras em relevantes dos tweets\n",
    "todas_em_sim = 0  #Contador das palavras no sim\n",
    "p = 0             #Frequência da palavra mais frequente\n",
    "\n",
    "#para cada post (msg)\n",
    "for msg in dftsim[\"Treinamento\"]:\n",
    "    #para cada palavra dentro do post (i)\n",
    "    frase = limpadorcaracter(msg)\n",
    "    for i in frase.split():\n",
    "        #analisando cada palavra já limpa\n",
    "        #contando sua frenquencia e adicionando em S\n",
    "        if not i in S:\n",
    "            S[i]=0\n",
    "        S[i]+=1\n",
    "        todas_em_sim+=1\n",
    "        if S[i]>=p:\n",
    "            p=S[i]\n",
    "            strings = i\n",
    "            \n",
    "print('Como curiosidade, a palavra que aparece com mais frequência entre todas as palavras de RELEVANTES é a palavra \"{0}\", com uma frenquência de {1} vezes.\\n'.format(strings,p))"
   ]
  },
  {
   "cell_type": "markdown",
   "metadata": {},
   "source": [
    "### Contagem do total de palavras não relevantes:"
   ]
  },
  {
   "cell_type": "code",
   "execution_count": 12,
   "metadata": {},
   "outputs": [
    {
     "name": "stdout",
     "output_type": "stream",
     "text": [
      "Como curiosidade, a palavra que aparece com mais frequência entre todas as palavras de NÃO RELEVANTES é a palavra \"nutella\", com uma frenquência de 84 vezes.\n",
      "\n"
     ]
    }
   ],
   "source": [
    "N = {}            #Dicionário com as palavras em não relevantes dos tweets\n",
    "todas_em_nao = 0  #Contador das palavras no não\n",
    "f = 0             #Frequência da palavra mais frequente\n",
    "\n",
    "#para cada post (msg)\n",
    "for msg in dftnao[\"Treinamento\"]:\n",
    "    #para cada palavra dentro do post (i)\n",
    "    frase = limpadorcaracter(msg)\n",
    "    for i in frase.split():\n",
    "        #analisando cada palavra já limpa\n",
    "        #contando sua frenquencia e adicionando em N\n",
    "        if not i in N:\n",
    "            N[i]=0\n",
    "        N[i]+=1\n",
    "        todas_em_nao+=1\n",
    "        if N[i]>=f:\n",
    "            f=N[i]\n",
    "            stringn = i\n",
    "\n",
    "print('Como curiosidade, a palavra que aparece com mais frequência entre todas as palavras de NÃO RELEVANTES é a palavra \"{0}\", com uma frenquência de {1} vezes.\\n'.format(stringn,f))"
   ]
  },
  {
   "cell_type": "markdown",
   "metadata": {},
   "source": [
    "### Resultados:"
   ]
  },
  {
   "cell_type": "code",
   "execution_count": 13,
   "metadata": {},
   "outputs": [
    {
     "name": "stdout",
     "output_type": "stream",
     "text": [
      "A quantidade TOTAL de palavras no UNIVERSO é 3593.\n",
      "A quantidade TOTAL de palavras dentro de RELEVANTES é 1686.\n",
      "A quantidade TOTAL de palavras dentro de NÃO RELEVANTES é 1907.\n",
      "\n",
      "A quantidade de palavras DIFERENTES no UNIVERSO é 1163.\n",
      "A quantidade de palavras DIFERENTES dentro de RELEVANTES é 569.\n",
      "A quantidade de palavras DIFERENTES dentro de NÃO RELEVANTES é 770.\n"
     ]
    }
   ],
   "source": [
    "print('A quantidade TOTAL de palavras no UNIVERSO é {0}.'.format(todas))\n",
    "print('A quantidade TOTAL de palavras dentro de RELEVANTES é {0}.'.format(todas_em_sim))\n",
    "print('A quantidade TOTAL de palavras dentro de NÃO RELEVANTES é {0}.\\n'.format(todas_em_nao))\n",
    "print('A quantidade de palavras DIFERENTES no UNIVERSO é {0}.'.format(len(A)))\n",
    "print('A quantidade de palavras DIFERENTES dentro de RELEVANTES é {0}.'.format(len(S)))\n",
    "print('A quantidade de palavras DIFERENTES dentro de NÃO RELEVANTES é {0}.'.format(len(N)))"
   ]
  },
  {
   "cell_type": "markdown",
   "metadata": {},
   "source": [
    "___\n",
    "## Verificando a performance\n",
    "\n",
    "Agora você deve testar o seu Classificador com a base de Testes.<br /><br /> \n",
    "\n",
    "Você deve extrair as seguintes medidas:\n",
    "* Porcentagem de positivos falsos (marcados como relevante mas não são relevantes)\n",
    "* Porcentagem de positivos verdadeiros (marcado como relevante e são relevantes)\n",
    "* Porcentagem de negativos verdadeiros (marcado como não relevante e não são relevantes)\n",
    "* Porcentagem de negativos falsos (marcado como não relevante e são relevantes)\n",
    "\n",
    "Opcionalmente:\n",
    "* Criar categorias intermediárias de relevância baseado na diferença de probabilidades. Exemplo: muito relevante, relevante, neutro, irrelevante e muito irrelevante."
   ]
  },
  {
   "cell_type": "markdown",
   "metadata": {},
   "source": [
    "### Variáveis:"
   ]
  },
  {
   "cell_type": "code",
   "execution_count": 14,
   "metadata": {
    "collapsed": true
   },
   "outputs": [],
   "source": [
    "#Calculando a probabilidade de cada palavra de ser relevante ou nao, para depois calcular a de cada frase de ser relevante ou nao\n",
    "#Teorema de Naive Bayes: \n",
    "#P(sim|palavra)=(P(palavra|sim)+1) / P(palavras totais|sim)+P(palavras totais sem repetição)\n",
    "#Em outras palavras:\n",
    "#A prob de ser relevante dada a palavra é igual a prob da palavra dado que ela é relevante mais 1 \n",
    "#(para o caso de a palavra nao existir no grupo de relevantes), tudo isso dividido pela prob de todas as palavras dentro de relevante\n",
    "#mais a prob das palavras totais sem repeticao do universo inteiro.\n",
    "\n",
    "bs = todas_em_sim                      #Total de palavras em relevante\n",
    "bn = todas_em_nao                      #Total de palavras em não relevante\n",
    "c = len(A)                             #Palvras totais sem repetições\n",
    "PS = {}                                #Dicionário de prbabilidades de cada palavra em relevante\n",
    "PN = {}                                #Dicionário de prbabilidades de cada palavra em não relevante\n",
    "TSim = dftsim[\"Treinamento\"].count()   #Nº de tweets relevantes\n",
    "TNao = dftnao[\"Treinamento\"].count()   #Nº de tweets não relevantes\n",
    "TTotal = dft[\"Treinamento\"].count()    #Nº total de tweets\n",
    "ListaPtweetS=[]                        #Probabilidade de cada tweet em relevante\n",
    "ListaPtweetN=[]                        #Probabilidade de cada tweet em não relevante\n",
    "Resultado=[]                           #Lista com \"Sim\" e \"Não\" qu irá para o dataframe"
   ]
  },
  {
   "cell_type": "markdown",
   "metadata": {},
   "source": [
    "### Cálculo da probabilidade de cada tweet:"
   ]
  },
  {
   "cell_type": "code",
   "execution_count": 15,
   "metadata": {},
   "outputs": [],
   "source": [
    "for msg2 in dfteste['Teste']:\n",
    "    #Para sim:\n",
    "    PtweetS = (TSim/TTotal)\n",
    "    for i in msg2.split():\n",
    "        frase = limpadorcaracter(msg2)\n",
    "        if i in S:\n",
    "            PS[i] = (S[i]+1)/(bs+c)\n",
    "        else:\n",
    "            PS[i] = 1/(bs+c)\n",
    "        PtweetS = PtweetS*PS[i]\n",
    "    ListaPtweetS.append(PtweetS)\n",
    "\n",
    "    #Para não:\n",
    "    PtweetN = (TNao/TTotal)\n",
    "    for i in msg2.split():\n",
    "        frase = limpadorcaracter(msg2)\n",
    "        if i in N:\n",
    "            PN[i] = (N[i]+1)/(bn+c)\n",
    "        else:\n",
    "            PN[i] = 1/(bn+c)\n",
    "        PtweetN = PtweetN*PN[i]\n",
    "    ListaPtweetN.append(PtweetN)"
   ]
  },
  {
   "cell_type": "markdown",
   "metadata": {},
   "source": [
    "### Criando uma coluna de resultado na planilha de teste:"
   ]
  },
  {
   "cell_type": "code",
   "execution_count": 16,
   "metadata": {
    "collapsed": true
   },
   "outputs": [],
   "source": [
    "for i in range(len(ListaPtweetS)):\n",
    "    #Se a Probabilidade da frase for maior em Relevante do que Irrelevante, então, classifique-a como Relevante\n",
    "    if ListaPtweetS[i]>ListaPtweetN[i]:\n",
    "        Resultado.append(\"Sim\")\n",
    "    #Caso contrário, classifique-a como Não Relevante\n",
    "    if ListaPtweetN[i]>ListaPtweetS[i]:\n",
    "        Resultado.append(\"Não\")\n",
    "        \n",
    "#criando a coluna Resultado, ou seja, os resultados do Classificador conforme as probabilidades \n",
    "#das frases de estarem ou em Relevante ou em Não Relevante\n",
    "dfteste[\"Resultado\"] = Resultado"
   ]
  },
  {
   "cell_type": "markdown",
   "metadata": {},
   "source": [
    "### Calculando resultados iguais e diferentes:"
   ]
  },
  {
   "cell_type": "code",
   "execution_count": 17,
   "metadata": {
    "scrolled": true
   },
   "outputs": [
    {
     "name": "stdout",
     "output_type": "stream",
     "text": [
      "168 respostas feitas pelo Classificador coincidem com o grupo de Relevante. Ou seja, 84.0% das respostas do Classificador são bem sucedidas.\n",
      "Enquanto que 32 respostas feitas pelo Classificador não coincidem com o grupo de Relevante. Ou seja, 16.0% das respostas do Classificador são mal sucedidas.\n"
     ]
    }
   ],
   "source": [
    "Igual = 0\n",
    "Diferente = 0\n",
    "#para cada post de Teste:\n",
    "for i in range(dfteste[\"Teste\"].count()):\n",
    "#se a resposta de Relevante for igual a resposta de Resultado entao adicione um a Igual (eles sao iguais)\n",
    "    if dfteste[\"Relevante\"][i] == dfteste[\"Resultado\"][i]:\n",
    "        Igual+=1\n",
    "    else:\n",
    "        Diferente+=1\n",
    "print('{0} respostas feitas pelo Classificador coincidem com o grupo de Relevante. Ou seja, {1}% das respostas do Classificador são bem sucedidas.'.format(Igual,Igual/(Igual+Diferente)*100))\n",
    "print('Enquanto que {0} respostas feitas pelo Classificador não coincidem com o grupo de Relevante. Ou seja, {1}% das respostas do Classificador são mal sucedidas.'.format(Diferente,Diferente/(Igual+Diferente)*100))"
   ]
  },
  {
   "cell_type": "markdown",
   "metadata": {},
   "source": [
    "### Calculando resultados para positivos e negativos, tanto falsos quanto verdadeiros:"
   ]
  },
  {
   "cell_type": "code",
   "execution_count": 18,
   "metadata": {
    "collapsed": true
   },
   "outputs": [],
   "source": [
    "#definindo as variaveis para confirmar os positivos e negativos\n",
    "PosFalso = 0\n",
    "PosVer = 0\n",
    "NegVer = 0\n",
    "NegFalso = 0\n",
    "#criando a lista que guardará as strings classificadoras ('Positivo Falso','Positivo Verdadeiro','Negativo Verdadeiro' e 'Negativo Falso')\n",
    "PeN = []\n",
    "\n",
    "for i in range(dfteste[\"Teste\"].count()):\n",
    "    #analisando os resultados, do mesmo post, do Classificador e do grupo Relevante feito por nós e adicionando a lista\n",
    "    if dfteste[\"Relevante\"][i]=='Não' and dfteste[\"Resultado\"][i]=='Sim':\n",
    "        PosFalso+=1\n",
    "        PeN.append('Positivo Falso')\n",
    "\n",
    "    if dfteste[\"Relevante\"][i]=='Sim' and dfteste[\"Resultado\"][i]=='Sim':\n",
    "        PosVer+=1\n",
    "        PeN.append('Positivo Verdadeiro')\n",
    "        \n",
    "    if dfteste[\"Relevante\"][i]=='Não' and dfteste[\"Resultado\"][i]=='Não':\n",
    "        NegVer+=1\n",
    "        PeN.append('Negativo Verdadeiro')\n",
    "        \n",
    "    if dfteste[\"Relevante\"][i]=='Sim' and dfteste[\"Resultado\"][i]=='Não':\n",
    "        NegFalso+=1\n",
    "        PeN.append('Negativo Falso')        \n",
    "\n",
    "#adicinando a coluna ao DataFrame\n",
    "dfteste[\"pn\"] = PeN"
   ]
  },
  {
   "cell_type": "code",
   "execution_count": 19,
   "metadata": {},
   "outputs": [
    {
     "name": "stdout",
     "output_type": "stream",
     "text": [
      "Quantidade dos respectivos Positivos e Negativos (sem porcentagem):\n"
     ]
    },
    {
     "data": {
      "text/plain": [
       "Positivo Verdadeiro    87\n",
       "Negativo Verdadeiro    81\n",
       "Positivo Falso         21\n",
       "Negativo Falso         11\n",
       "Name: pn, dtype: int64"
      ]
     },
     "execution_count": 19,
     "metadata": {},
     "output_type": "execute_result"
    }
   ],
   "source": [
    "print('Quantidade dos respectivos Positivos e Negativos (sem porcentagem):')\n",
    "dfteste.pn.value_counts()"
   ]
  },
  {
   "cell_type": "code",
   "execution_count": 20,
   "metadata": {},
   "outputs": [
    {
     "data": {
      "image/png": "[encoded data removed]",
      "text/plain": [
       "<matplotlib.figure.Figure at 0x1706b439be0>"
      ]
     },
     "metadata": {},
     "output_type": "display_data"
    }
   ],
   "source": [
    "import matplotlib.pyplot as plt\n",
    "k = dfteste.pn.value_counts()/len(PeN)*100\n",
    "s = k.reindex(['Positivo Falso','Positivo Verdadeiro','Negativo Verdadeiro','Negativo Falso'])\n",
    "plot = s.plot(kind='pie',title='Positivos e Negativos (em porcentagem)',autopct='%.1f',figsize=(5, 5))\n",
    "plt.show()"
   ]
  },
  {
   "cell_type": "markdown",
   "metadata": {},
   "source": [
    "        Neste gráfico de setor, percebemos que a porcentagem de positivos verdadeiros e de negativos verdadeiros classificados é de 43% e 41%, respectivamente, o que significa que, em sua maioria, o Classificador usado funciona para 84% dos casos (a soma dos dois verdadeiros). Com isso, concluimos que, como as respostas do nosso Classificador coincidem 168 vezes dentre 200 (84%), ele poderia melhorar, chegando perto de 100% de sucesso, entretanto nunca chegaria a acertar as 200 vezes."
   ]
  },
  {
   "cell_type": "markdown",
   "metadata": {
    "collapsed": true
   },
   "source": [
    "___\n",
    "## Concluindo\n",
    "\n",
    "Escreva aqui a sua conclusão.<br /> \n",
    "Faça um comparativo qualitativo sobre as medidas obtidas.<br />\n",
    "Explique como são tratadas as mensagens com dupla negação e sarcasmo.<br />\n",
    "Proponha um plano de expansão. Por que eles devem continuar financiando o seu projeto?<br />\n",
    "\n",
    "Opcionalmente: \n",
    "* Discorrer por que não posso alimentar minha base de Treinamento automaticamente usando o próprio classificador, aplicado a novos tweets.\n",
    "* Propor diferentes cenários de uso para o classificador Naive-Bayes. Cenários sem intersecção com este projeto.\n",
    "* Sugerir e explicar melhorias reais no classificador com indicações concretas de como implementar (não é preciso codificar, mas indicar como fazer e material de pesquisa sobre o assunto).\n"
   ]
  },
  {
   "cell_type": "markdown",
   "metadata": {},
   "source": [
    "Como dito anteriormente, o Classificador funciona para 84% dos casos, o que é bom, pois coincide em boa parte dos resultados esperados. Entretanto, é certo que poderia melhorar. O maior obstáculo nisso é pelo fato de o Twitter ser uma rede social de caráter informal, ou seja, as pessoas se expressam do jeito que querem (com sarcasmo, com expressões diferentes, com gírias, escrevem do jeito que falam, entre outros), e por causa disso, muito dificilmente o filtro será perfeito para todos os casos. Se temos uma frase, por exemplo, em que a pessoa é sarcástica, o Classificador lerá como uma frase normal e a classificará do jeito errado."
   ]
  },
  {
   "cell_type": "markdown",
   "metadata": {},
   "source": [
    "Por conta disso, propusemos um plano de expansão: filtrar e igualar mais expressões além das feitas, como \"dnv\" a \"de novo\", separar todos os emojis das palavras e entre si, igualar os tipos de risada como \"haha\" a \"rsrs\" e a \"kkk\", filtrar a expressão que aparece frequentemente no grupo de não relevante (\"geração raíz\" e \"geração nutella\"), assim como filtrar os outros \"memes\" (que significa \"imitação\" em grego e também \"informações virais\" dentro da internet). É claro que, ao escrever, as pessoas podem errar na digitação, como escrever \"amnhã\" ao invés de \"amanhã\", ou fazer de propósito, e isso pode passar como uma probabilidade errada por só haver uma expressão daquela dentre muitas palavras do evento."
   ]
  },
  {
   "cell_type": "markdown",
   "metadata": {},
   "source": [
    "Para realizar este plano, um dos modos é igualar a expressão usada àquela correspondente assim que ela aparecer na análise. Ou seja, fazendo a análise de cada frase dentro da análise toda (em termos de programação: \"for frase in dataframe_usado:\") e para todas as palavras da respectiva frase (em termos de programação: \"for palavra in frase.split():\") e, usando cada palavra para verificar se ela é igual a nossa expressão (em termos de programação: \"if palavra == 'oq':\", por exemplo, que foi a expressão usada por nós), então substitua na frase a palavra usada pelo usuário pela correta (em termos de programação: \"frase = frase.replace('oq','o que')). Para implementar esta melhoria no nosso código, devemos adicionar esta limpeza na função que está limpando, para que limpe todos os casos, e, além disso, devemos fazer essa mudança de palavra antes de separarmos a frase para analisar cada palavra (em termos de programação: \"antes do for de frase.split()\"). Se fizermos isto para outras expressões, nosso código melhoraria bastante. No caso da separação de emojis, o código fica diferente, pois chamamos, por exemplo, um emoji específico sorrindo de \"\\U0001f601\". Mais informações sobre como resolver estes casos em: https://stackoverflow.com/…/how-to-encode-emojis-that-are-i… ."
   ]
  },
  {
   "cell_type": "markdown",
   "metadata": {},
   "source": [
    "Para a classificação do emoji, tanto em irônico quanto não irônico, o professor Scott Fahlmano, assistente de pesquisa de ciência da computação da Universidade Carnegie Mellon, nos Estados Unidos, e criador do primeiro emoticon, propôs o ícone \":-)\", chamado de \"smiley\" para identificar mensagens de piada e \":-(\" para as sérias. A ideia foi concebida para resolver um mal-entendido ocorrido na instituição por uma mensagem sarcástica (mais informações sobre isso em http://www.techtudo.com.br/…/entenda-diferenca-entre-smiley…). Este argumento nos permite separar o que seria sarcasmo ou ironia (se houver o ícone \":-)\") do que seria realidade ou coisa séria (que é como o nosso Classificador lê naturalmente)."
   ]
  },
  {
   "cell_type": "markdown",
   "metadata": {},
   "source": [
    "Com o financiamento, o filtro poderá detectar algumas das expressões mais usadas pelos jovens que acessam essas redes sociais. Afinal, somos nós, jovens, conhecedores das expressões populares, que aperfeiçoamos o Classificador."
   ]
  },
  {
   "cell_type": "markdown",
   "metadata": {
    "collapsed": true
   },
   "source": [
    "Importante mencionar que o motivo pelo qual o classificador foi implementado apenas para a base de testes foi para garantir que o cálculo não fique enviesado. Por exemplo, quando calculamos a probabilidade de uma palavra aleatória (que não interfere na classificação, como uma preposição) ser relevante ou não, muitas vezes o resultado tende para uma das classificações, aumentando a chance do classificador \"acertar\" a relevância do tweet."
   ]
  },
  {
   "cell_type": "code",
   "execution_count": null,
   "metadata": {},
   "outputs": [],
   "source": []
  },
  {
   "cell_type": "code",
   "execution_count": null,
   "metadata": {
    "collapsed": true
   },
   "outputs": [],
   "source": []
  }
 ],
 "metadata": {
  "kernelspec": {
   "display_name": "Python 3",
   "language": "python",
   "name": "python3"
  },
  "language_info": {
   "codemirror_mode": {
    "name": "ipython",
    "version": 3
   },
   "file_extension": ".py",
   "mimetype": "text/x-python",
   "name": "python",
   "nbconvert_exporter": "python",
   "pygments_lexer": "ipython3",
   "version": "3.6.0"
  }
 },
 "nbformat": 4,
 "nbformat_minor": 1
}
